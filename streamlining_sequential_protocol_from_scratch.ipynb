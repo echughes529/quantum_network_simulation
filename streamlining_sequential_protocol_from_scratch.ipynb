{
  "nbformat": 4,
  "nbformat_minor": 0,
  "metadata": {
    "colab": {
      "provenance": [],
      "authorship_tag": "ABX9TyMQfWRCDJWarp4mRRsJ5KR8",
      "include_colab_link": true
    },
    "kernelspec": {
      "name": "python3",
      "display_name": "Python 3"
    },
    "language_info": {
      "name": "python"
    }
  },
  "cells": [
    {
      "cell_type": "markdown",
      "metadata": {
        "id": "view-in-github",
        "colab_type": "text"
      },
      "source": [
        "<a href=\"https://colab.research.google.com/github/echughes529/quantum_network_simulation/blob/main/streamlining_sequential_protocol_from_scratch.ipynb\" target=\"_parent\"><img src=\"https://colab.research.google.com/assets/colab-badge.svg\" alt=\"Open In Colab\"/></a>"
      ]
    },
    {
      "cell_type": "code",
      "source": [
        "pip install qutip"
      ],
      "metadata": {
        "colab": {
          "base_uri": "https://localhost:8080/"
        },
        "id": "BNybLTUOH7pO",
        "outputId": "5a5dfc7b-3448-4393-939d-61da8987c920"
      },
      "execution_count": 3,
      "outputs": [
        {
          "output_type": "stream",
          "name": "stdout",
          "text": [
            "Requirement already satisfied: qutip in /usr/local/lib/python3.10/dist-packages (5.0.4)\n",
            "Requirement already satisfied: numpy>=1.22 in /usr/local/lib/python3.10/dist-packages (from qutip) (1.26.4)\n",
            "Requirement already satisfied: scipy>=1.9 in /usr/local/lib/python3.10/dist-packages (from qutip) (1.13.1)\n",
            "Requirement already satisfied: packaging in /usr/local/lib/python3.10/dist-packages (from qutip) (24.1)\n",
            "Requirement already satisfied: qutip in /usr/local/lib/python3.10/dist-packages (5.0.4)\n",
            "Requirement already satisfied: numpy>=1.22 in /usr/local/lib/python3.10/dist-packages (from qutip) (1.26.4)\n",
            "Requirement already satisfied: scipy>=1.9 in /usr/local/lib/python3.10/dist-packages (from qutip) (1.13.1)\n",
            "Requirement already satisfied: packaging in /usr/local/lib/python3.10/dist-packages (from qutip) (24.1)\n"
          ]
        }
      ]
    },
    {
      "cell_type": "code",
      "execution_count": 4,
      "metadata": {
        "id": "688Que9FH5fX"
      },
      "outputs": [],
      "source": [
        "import numpy as np\n",
        "import random\n",
        "import matplotlib.pyplot as plt\n",
        "from qutip import *\n",
        "\n",
        "# Optical Fiber Properties\n",
        "L_att = 22e3       # attenuation length of optical fiber\n",
        "c = 2e8            # speed of light in fiber optic\n",
        "\n",
        "\n",
        "# Set Up\n",
        "zero_ket = basis(2,0)\n",
        "one_ket = basis(2,1)\n",
        "zero_rho = zero_ket * zero_ket.dag()\n",
        "one_rho = basis(2,1) * basis(2,1).dag()\n",
        "I = lambda: qeye(2)\n",
        "H = (sigmaz() + sigmax()) * np.sqrt(1/2)\n",
        "CNOT = Qobj([[1,0,0,0], [0,1,0,0], [0,0,0,1], [0,0,1,0]], dims=[[2,2],[2,2]])\n",
        "phi_plus_ket = (tensor(one_ket, one_ket) + tensor(zero_ket, zero_ket)).unit()\n",
        "phi_plus_rho = phi_plus_ket * phi_plus_ket.dag()\n",
        "\n",
        "\n",
        "def initial_rho(num_qubits: int):\n",
        "    assert isinstance(num_qubits, int) and num_qubits > 0, \"num_qubits must be a positive integer.\"\n",
        "    zero_rho = basis(2, 0) * basis(2, 0).dag()  # Density matrix for the |0⟩ state\n",
        "    return tensor([zero_rho for _ in range(num_qubits)])\n",
        "\n",
        "\n",
        "def pad_op(op: Qobj, left_padding: int, right_padding: int, num_qubits: int):\n",
        "    assert isinstance(op, Qobj), \"op must be a Qobj.\"\n",
        "    assert isinstance(left_padding, int) and left_padding >= 0, \"left_padding must be a non-negative integer.\"\n",
        "    assert isinstance(right_padding, int) and right_padding >= 0, \"right_padding must be a non-negative integer.\"\n",
        "\n",
        "    if left_padding > 0:\n",
        "        left_op = tensor([I()] * left_padding)\n",
        "        op = tensor(left_op, op)\n",
        "\n",
        "    if right_padding > 0:\n",
        "        right_op = tensor([I()] * right_padding)\n",
        "        op = tensor(op, right_op)\n",
        "\n",
        "    return op\n",
        "\n",
        "def phi_plus_generator(rho: Qobj, num_qubits_left: int, num_qubits_right: int, num_qubits: int, F_initial=0.93):\n",
        "    H_op = pad_op(H, left_padding=num_qubits_left, right_padding=num_qubits_right + 1, num_qubits=num_qubits)\n",
        "    CNOT_op = pad_op(CNOT, left_padding=num_qubits_left, right_padding=num_qubits_right, num_qubits=num_qubits)\n",
        "\n",
        "    rho = H_op * rho * H_op.dag()\n",
        "    rho = CNOT_op * rho * CNOT_op.dag()\n",
        "    return rho\n",
        "\n",
        "\n",
        "def dephasing_channel(rho: Qobj, t: float, T_dp: float, d: float, left_padding: int, right_padding: int, num_qubits: int):\n",
        "    # convert time units to real life time units\n",
        "    t = t * d / c\n",
        "    dp_prob = (1 - np.exp(-t / T_dp)) / 2\n",
        "\n",
        "    Z_op = np.sqrt(dp_prob) * pad_op(op=sigmaz(), left_padding=left_padding, right_padding=right_padding, num_qubits=num_qubits)\n",
        "    I_op = np.sqrt(1 - dp_prob) * pad_op(op=I(), left_padding=left_padding, right_padding=right_padding, num_qubits=num_qubits)\n",
        "    rho_t = I_op * rho * I_op.dag() + Z_op * rho * Z_op.dag()\n",
        "    return rho_t\n",
        "\n",
        "\n",
        "def entanglement_generation(rho: Qobj, q0: int, q1: int, num_qubits: int, T_dp: float, d: float, qubit_times: list):\n",
        "    \"\"\"\n",
        "    NOTE: q1 must be greater than q0, q0 always even, q1 always dd\n",
        "    Returns rho (either with entanglement generated or not) and True or False depending on whether entanglment has been generated\n",
        "    time here is in time units of d/c, converted to real time units in dephasing function\n",
        "    qubit times for record keeping purposesc\n",
        "    \"\"\"\n",
        "    # proabilistic entanglement generation according to the channel efficiency\n",
        "    n_channel = np.exp(-d/L_att)\n",
        "    num_qubits_left = q0\n",
        "    num_qubits_right = (num_qubits - 1) - q1\n",
        "\n",
        "    # if unsuccessful, qubits to left decohere\n",
        "    if random.uniform(0,1) > n_channel:\n",
        "        print(f\"Entanglement generation between qubits {q0} and {q1} failed.\")\n",
        "        if q0 > 0:\n",
        "            print(f\"Dephasing qubits 0 and {q0-1} due to failed attempt.\")\n",
        "            # dephasing on left of q0\n",
        "            rho = dephasing_channel(rho=rho, t = 2, T_dp=T_dp, d=d, left_padding=num_qubits_left - 1, right_padding=num_qubits_right + 2, num_qubits=num_qubits)\n",
        "            qubit_times[q0-1] += 2\n",
        "            # dephasing on first qubit\n",
        "            rho = dephasing_channel(rho=rho, t = 2, T_dp=T_dp, d=d, left_padding=0, right_padding=num_qubits - 1, num_qubits=num_qubits)\n",
        "            qubit_times[0] += 2\n",
        "        return rho, False\n",
        "\n",
        "    else:\n",
        "        print(f\"Entanglement successfully generated between qubits {q0} and {q1}.\")\n",
        "        rho = phi_plus_generator(rho, num_qubits_left, num_qubits_right, num_qubits)\n",
        "\n",
        "        # dephasing on q0\n",
        "        rho = dephasing_channel(rho=rho, t = 2, T_dp=T_dp, d=d, left_padding=num_qubits_left, right_padding=num_qubits_right + 1, num_qubits=num_qubits)\n",
        "        qubit_times[q0] += 2\n",
        "        # dephasing on q1\n",
        "        rho = dephasing_channel(rho=rho, t = 1, T_dp=T_dp, d=d, left_padding=num_qubits_left + 1, right_padding=num_qubits_right, num_qubits=num_qubits)\n",
        "        qubit_times[q1] += 1\n",
        "\n",
        "        # qubits to left must decohere (unless q0 = 0)\n",
        "        if q0 > 0:\n",
        "            print(f\"Dephasing qubits 0 and {q0-1} due after succesful attempt.\")\n",
        "            # dephasing on left of q0\n",
        "            rho = dephasing_channel(rho=rho, t = 2, T_dp=T_dp, d=d, left_padding=num_qubits_left - 1, right_padding=num_qubits_right + 2, num_qubits=num_qubits)\n",
        "            qubit_times[q0-1] += 2\n",
        "            # dephasing on first qubit\n",
        "            rho = dephasing_channel(rho=rho, t = 2, T_dp=T_dp, d=d, left_padding=0, right_padding=num_qubits - 1, num_qubits=num_qubits)\n",
        "            qubit_times[0] += 2\n",
        "    return rho, True\n",
        "\n",
        "def entanglement_swapping(rho: Qobj, q_minus_1: int, q0: int, num_qubits: int):\n",
        "    print(f\"Entanglement swapping between qubits {q_minus_1} and {q0}.\")\n",
        "    num_qubits_left = q_minus_1\n",
        "    num_qubits_right = (num_qubits - 1) - q0\n",
        "\n",
        "    bell_measure_op = pad_op(phi_plus_rho, left_padding = num_qubits_left, right_padding = num_qubits_right, num_qubits=num_qubits)\n",
        "    rho = (bell_measure_op * rho * bell_measure_op.dag()).unit()\n",
        "    return rho\n",
        "\n",
        "# Parameters\n",
        "T_dp = 0.000001\n",
        "d = 5000\n",
        "num_nodes = 6\n",
        "num_iterations = 1\n",
        "num_qubits = num_nodes * 2\n"
      ]
    },
    {
      "cell_type": "code",
      "source": [
        "rho = initial_rho(num_qubits)\n",
        "qubit_times = np.zeros(num_qubits)\n",
        "q0, q1 = 0, 1\n",
        "\n",
        "move_on = False\n",
        "# Generate entanglement across the first pair\n",
        "while move_on == False:\n",
        "    rho, move_on = entanglement_generation(rho, q0, q1, num_qubits, T_dp, d, qubit_times)\n",
        "    q0 += 2\n",
        "    q1 += 2\n",
        "\n",
        "# keep generating entanglement until last pair\n",
        "while q0 <= num_qubits - 2:\n",
        "    move_on = False\n",
        "    while move_on == False:\n",
        "        rho, move_on = entanglement_generation(rho, q0, q1, num_qubits, T_dp, d, qubit_times)\n",
        "    rho = entanglement_swapping(rho, q0-1, q0, num_qubits)\n",
        "    q0 += 2\n",
        "    q1 += 2\n",
        "\n",
        "# trace out final bell pair at the end nodes\n",
        "final_state = rho.ptrace([0, num_qubits - 1])\n",
        "fidelity = np.real(phi_plus_ket.dag() * final_state * phi_plus_ket)\n",
        "print('final state:', final_state)\n",
        "print('fidelity:', fidelity)\n"
      ],
      "metadata": {
        "colab": {
          "base_uri": "https://localhost:8080/"
        },
        "id": "Q7XRfpjI4Dmh",
        "outputId": "61166967-134f-403e-917c-b51a6c501870"
      },
      "execution_count": null,
      "outputs": [
        {
          "output_type": "stream",
          "name": "stdout",
          "text": [
            "Entanglement successfully generated between qubits 0 and 1.\n"
          ]
        }
      ]
    },
    {
      "cell_type": "code",
      "source": [
        "phi_plus_ket = (tensor(one_ket, one_ket) + tensor(zero_ket, zero_ket)).unit()\n",
        "phi_plus_rho = phi_plus_ket * phi_plus_ket.dag()\n",
        "\n",
        "np.real(phi_plus_ket.dag() * phi_plus_rho * phi_plus_ket)\n",
        "print(phi_plus_rho.full())\n",
        "print(final_state.full())"
      ],
      "metadata": {
        "id": "EhnVlGtWAv5P"
      },
      "execution_count": null,
      "outputs": []
    },
    {
      "cell_type": "code",
      "source": [
        "def run_communication_chain(num_iterations: int, T_dp: float, d: float, num_qubits: int):\n",
        "    \"\"\"Run the communication chain multiple times and calculate the average fidelity.\"\"\"\n",
        "    fidelities = []\n",
        "    num_qubits = (num_nodes - 1) * 2\n",
        "\n",
        "    for _ in range(num_iterations):\n",
        "        rho = initial_rho(num_qubits)\n",
        "        qubit_times = np.zeros(num_qubits)\n",
        "        q0, q1 = 0, 1\n",
        "\n",
        "        move_on = False\n",
        "        # Generate entanglement across the first pair\n",
        "        while move_on == False:\n",
        "            rho, move_on = entanglement_generation(rho, q0, q1, num_qubits, T_dp, d, qubit_times)\n",
        "            q0 += 2\n",
        "            q1 += 2\n",
        "\n",
        "        # keep generating entanglement until last pair\n",
        "        while q0 <= num_qubits - 2:\n",
        "            while move_on == False:\n",
        "                rho, move_on = entanglement_generation(rho, q0, q1, num_qubits, T_dp, d, qubit_times)\n",
        "            #rho = entanglement_swapping(rho, q0-1, q0, num_qubits)\n",
        "            q0 += 2\n",
        "            q1 += 2\n",
        "\n",
        "        # trace out final bell pair at the end nodes\n",
        "        final_state = rho.ptrace([0, num_qubits - 1])\n",
        "        fidelity = np.real(phi_plus_ket.dag() * final_state * phi_plus_ket)\n",
        "        fidelities.append(fidelity)\n",
        "\n",
        "    avg_fidelity = np.mean(fidelities)\n",
        "    return avg_fidelity\n",
        "\n",
        "\n",
        "\n",
        "# Run the simulation\n",
        "#avg_fidelity = run_communication_chain(num_iterations, T_dp, d, num_qubits)\n",
        "#print(f\"Average Fidelity: {avg_fidelity:.4f}\")"
      ],
      "metadata": {
        "id": "tH4N97d3R9TC"
      },
      "execution_count": null,
      "outputs": []
    },
    {
      "cell_type": "code",
      "source": [],
      "metadata": {
        "id": "V0gRC2ym8ANS"
      },
      "execution_count": null,
      "outputs": []
    }
  ]
}