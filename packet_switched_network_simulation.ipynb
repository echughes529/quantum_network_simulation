{
  "nbformat": 4,
  "nbformat_minor": 0,
  "metadata": {
    "colab": {
      "provenance": [],
      "authorship_tag": "ABX9TyP1Q8TRzU1hEtScnu37HgiX"
    },
    "kernelspec": {
      "name": "python3",
      "display_name": "Python 3"
    },
    "language_info": {
      "name": "python"
    }
  },
  "cells": [
    {
      "cell_type": "code",
      "source": [
        "pip install simpy networkx"
      ],
      "metadata": {
        "colab": {
          "base_uri": "https://localhost:8080/"
        },
        "id": "QGieS4ijuI7M",
        "outputId": "427a2931-379e-451a-f806-1c5c594bf9f4"
      },
      "execution_count": 1,
      "outputs": [
        {
          "output_type": "stream",
          "name": "stdout",
          "text": [
            "Collecting simpy\n",
            "  Downloading simpy-4.1.1-py3-none-any.whl.metadata (6.1 kB)\n",
            "Requirement already satisfied: networkx in /usr/local/lib/python3.10/dist-packages (3.3)\n",
            "Downloading simpy-4.1.1-py3-none-any.whl (27 kB)\n",
            "Installing collected packages: simpy\n",
            "Successfully installed simpy-4.1.1\n"
          ]
        }
      ]
    },
    {
      "cell_type": "code",
      "source": [
        "import simpy\n",
        "import networkx as nx\n",
        "import unittest\n",
        "import random"
      ],
      "metadata": {
        "id": "NbFzCa-Dusjy"
      },
      "execution_count": 2,
      "outputs": []
    },
    {
      "cell_type": "code",
      "source": [
        "# Define a frame class to represent the frames being transferred in the network\n",
        "class Frame:\n",
        "    storage_time_limit = 10  # Maximum allowed storage time\n",
        "    guard_time = 3  # Guard time for frame integrity\n",
        "    payload_time = 1\n",
        "    temporal_frame_length = guard_time + payload_time  # Length of the frame in time units\n",
        "\n",
        "    def __init__(self, env, source, destination, frame_id):\n",
        "        self.env = env  # Simulation environment\n",
        "        self.source = source  # Source node of the frame\n",
        "        self.destination = destination  # Destination node of the frame\n",
        "        self.creation_time = env.now  # Timestamp of frame creation\n",
        "        self.status = 'in transit'  # Status of the frame: 'in transit', 'arrived', 'discarded'\n",
        "        self.path_traveled = [source]  # Path the frame has traveled\n",
        "        self.frame_id = frame_id  # Unique identifier for the frame\n",
        "        self.time_in_storage = 0  # Time spent in storage\n",
        "\n",
        "\n",
        "    def update_storage_time(self, time_spent):\n",
        "        self.time_in_storage += time_spent\n",
        "        if self.time_in_storage > Frame.storage_time_limit:\n",
        "            self.status = 'discarded'\n",
        "        print(f\"Packet {self.frame_id}: {self.time_in_storage}s in storage\")\n",
        "\n",
        "# Define a network node (e.g., user, router, receiver)\n",
        "class NetworkNode:\n",
        "    header_processing = 1\n",
        "\n",
        "    def __init__(self, env, name, node_type, k=2):\n",
        "        self.env = env  # Simulation environment\n",
        "        self.name = name  # Name of the node\n",
        "        self.node_type = node_type  # Type of node: 'sender', 'router', or 'receiver'\n",
        "        self.queue = simpy.Store(env)  # Queue to store frames\n",
        "        self.resource = simpy.Resource(env, capacity=k)  # Resource to handle k simultaneous processes\n",
        "\n",
        "    def process_frames(self):\n",
        "        while True:\n",
        "            frame = yield self.queue.get()  # Get the next frame from the queue\n",
        "            with self.resource.request() as request:\n",
        "                yield request  # Wait until the resource is available\n",
        "                if self.node_type in ['router', 'receiver']:\n",
        "\n",
        "                    # Simulate header processing delay for routers and receivers\n",
        "                    processing_delay = 1  # Example processing delay\n",
        "                    yield self.env.timeout(NetworkNode.header_processing)\n",
        "                    frame.update_storage_time(NetworkNode.header_processing)\n",
        "\n",
        "                    if frame.status == 'discarded':\n",
        "                        print(f\"Time {self.env.now}: Frame {frame.frame_id} discarded at {self.name}\")\n",
        "                        continue  # Skip further processing if frame is discarded\n",
        "\n",
        "                if self.name != frame.destination:\n",
        "                    # If the current node is not the destination, forward the frame\n",
        "                    self.env.process(route_frame(self.env, frame, network, self))\n",
        "\n",
        "                else:\n",
        "                    # If the current node is the destination, deliver the frame\n",
        "                    frame.status = 'arrived'\n",
        "                    print(f\"Time {self.env.now}: Frame {frame.frame_id} delivered at {self.name}, from {frame.source} to {frame.destination}\")"
      ],
      "metadata": {
        "id": "k4teti6-wle7"
      },
      "execution_count": 7,
      "outputs": []
    },
    {
      "cell_type": "code",
      "source": [
        "# Define a function to generate frames at a given source node\n",
        "def generate_frames(env, source_node, destination, interval, max_packets):\n",
        "    packet_count = 0  # Counter for the number of packets generated\n",
        "    while packet_count < max_packets:\n",
        "        yield env.timeout(interval)  # Wait for the next frame generation interval\n",
        "        # Create a new frame with example attributes\n",
        "        frame = Frame(env, source_node.name, destination, packet_count + 1)\n",
        "        source_node.queue.put(frame)  # Put the frame in the source node's queue\n",
        "        print(f\"\\nTime {env.now}: Frame {frame.frame_id} created at {source_node.name}, destined for {destination}\")\n",
        "        frames.append(frame)  # Collect the frame for visualization\n",
        "        packet_count += 1  # Increment the packet counter\n",
        "\n",
        "def route_frame(env, frame, network, current_node):\n",
        "    # Calculate the shortest path from the current node to the destination\n",
        "    all_paths = list(nx.all_shortest_paths(network, source=current_node.name, target=frame.destination, weight='weight'))\n",
        "    path = random.choice(all_paths)\n",
        "\n",
        "    # Determine the next hop in the path\n",
        "    next_hop = path[1]\n",
        "    # Get the next node object from the dictionary\n",
        "    next_node = node_dict[next_hop]\n",
        "\n",
        "    # Simulate the transmission delay based on the edge weight\n",
        "    transmission_delay = network[current_node.name][next_hop]['weight']\n",
        "    yield env.timeout(transmission_delay)\n",
        "    frame.update_storage_time(transmission_delay)\n",
        "\n",
        "    if frame.status == 'discarded':\n",
        "        print(f\"Time {env.now}: Frame {frame.frame_id} discarded en route at {current_node.name}\")\n",
        "        return  # Stop forwarding if frame is discarded\n",
        "\n",
        "    frame.path_traveled.append(next_hop)  # Record the path traveled\n",
        "    print(f\"Time {env.now}: Frame {frame.frame_id} forwarded from {current_node.name} to {next_hop}\")\n",
        "    # Put the frame in the next node's queue\n",
        "    next_node.queue.put(frame)\n",
        "\n",
        "# Create a directed graph to represent the network topology\n",
        "def create_grid_graph(network, rows, cols):\n",
        "    nodes = []\n",
        "    for i in range(rows):\n",
        "        for j in range(cols):\n",
        "            node = f'Node_{i}_{j}'\n",
        "            nodes.append(node)\n",
        "            network.add_node(node)\n",
        "            # Connect to the right neighbor\n",
        "            if j < cols - 1:\n",
        "                network.add_edge(node, f'Node_{i}_{j+1}', weight=1)\n",
        "                network.add_edge(f'Node_{i}_{j+1}', node, weight=1)\n",
        "            # Connect to the bottom neighbor\n",
        "            if i < rows - 1:\n",
        "                network.add_edge(node, f'Node_{i+1}_{j}', weight=1)\n",
        "                network.add_edge(f'Node_{i+1}_{j}', node, weight=1)\n",
        "    return nodes\n",
        "\n",
        "# Create and initialize the simulation environment\n",
        "def initialize_simulation(grid_size:int, sender, reciever):\n",
        "    \"\"\"\n",
        "    gridsize=int\n",
        "    sender = list, coords of sender node [x,y]\n",
        "    reciever = list, coords of reciever node [x,y]\n",
        "    \"\"\"\n",
        "    global env, network, node_dict, frames\n",
        "    env = simpy.Environment()\n",
        "    network = nx.Graph()\n",
        "    frames = []\n",
        "\n",
        "    # Create a 3x3 grid of nodes\n",
        "    nodes = create_grid_graph(network, grid_size, grid_size)\n",
        "\n",
        "    # Define node types (for simplicity, all nodes are routers except the first and last)\n",
        "    node_types = {}\n",
        "    for i in range(grid_size):\n",
        "        for j in range(grid_size):\n",
        "            if i == sender[0] and j == sender[1]:\n",
        "                node_types[f'Node_{i}_{j}'] = 'sender'\n",
        "            elif i == reciever[0] and j == reciever[1]:\n",
        "                node_types[f'Node_{i}_{j}'] = 'receiver'\n",
        "            else:\n",
        "                node_types[f'Node_{i}_{j}'] = 'router'\n",
        "\n",
        "    # Create network node objects and store them in a dictionary\n",
        "    node_dict = {name: NetworkNode(env, name, node_types[name], k=2) for name in nodes}\n",
        "\n",
        "# Run the simulation\n",
        "def run_simulation(max_packets, interval, gridsize, sender, reciever):\n",
        "    initialize_simulation(gridsize, sender, reciever)\n",
        "\n",
        "    # Start the frame generation process at the sender node, creating frames destined for the receiver node\n",
        "    env.process(generate_frames(env, node_dict['Node_0_0'], 'Node_2_2', interval=interval, max_packets=max_packets))\n",
        "\n",
        "    # Start the frame processing process for each node in the network\n",
        "    for node in node_dict.values():\n",
        "        env.process(node.process_frames())\n",
        "\n",
        "    # Run the simulation until all packets are generated and processed\n",
        "    while len(frames) < max_packets or any(frame.status == 'in transit' for frame in frames):\n",
        "        env.step()\n",
        "\n",
        "    print(f\"\\nSimulation completed after generating and processing {max_packets} packets.\")\n"
      ],
      "metadata": {
        "id": "JfpgU4EQvYlI"
      },
      "execution_count": 8,
      "outputs": []
    },
    {
      "cell_type": "code",
      "source": [
        "gridsize = 5\n",
        "sender = [1, 1]\n",
        "receiver = [3, 3]\n",
        "initialize_simulation(gridsize, sender, receiver)\n",
        "print(node_dict['Node_0_0'].node_type)"
      ],
      "metadata": {
        "colab": {
          "base_uri": "https://localhost:8080/"
        },
        "id": "gSg3kliK7kyR",
        "outputId": "f8f96eb1-da1b-4283-fa64-361433ec6ac3"
      },
      "execution_count": 9,
      "outputs": [
        {
          "output_type": "stream",
          "name": "stdout",
          "text": [
            "router\n"
          ]
        }
      ]
    },
    {
      "cell_type": "code",
      "source": [
        "# Main code to run the simulation\n",
        "\n",
        "max_packets = 3  # Number of packets to generate and process\n",
        "interval = 5  # Time interval between packet generations\n",
        "gridsize = 8\n",
        "sender = [0,0]\n",
        "reciever = [2,2]\n",
        "\n",
        "run_simulation(max_packets, interval, gridsize, sender, reciever)"
      ],
      "metadata": {
        "colab": {
          "base_uri": "https://localhost:8080/"
        },
        "id": "IsGwzvPZ2j8R",
        "outputId": "7b671a84-8352-459e-856a-d3f86188d367"
      },
      "execution_count": 10,
      "outputs": [
        {
          "output_type": "stream",
          "name": "stdout",
          "text": [
            "\n",
            "Time 5: Frame 1 created at Node_0_0, destined for Node_2_2\n",
            "Packet 1: 1s in storage\n",
            "Time 6: Frame 1 forwarded from Node_0_0 to Node_0_1\n",
            "Packet 1: 2s in storage\n",
            "Packet 1: 3s in storage\n",
            "Time 8: Frame 1 forwarded from Node_0_1 to Node_1_1\n",
            "Packet 1: 4s in storage\n",
            "\n",
            "Time 10: Frame 2 created at Node_0_0, destined for Node_2_2\n",
            "Packet 1: 5s in storage\n",
            "Time 10: Frame 1 forwarded from Node_1_1 to Node_1_2\n",
            "Packet 2: 1s in storage\n",
            "Time 11: Frame 2 forwarded from Node_0_0 to Node_0_1\n",
            "Packet 1: 6s in storage\n",
            "Packet 1: 7s in storage\n",
            "Time 12: Frame 1 forwarded from Node_1_2 to Node_2_2\n",
            "Packet 2: 2s in storage\n",
            "Packet 2: 3s in storage\n",
            "Time 13: Frame 2 forwarded from Node_0_1 to Node_0_2\n",
            "Packet 1: 8s in storage\n",
            "Time 13: Frame 1 delivered at Node_2_2, from Node_0_0 to Node_2_2\n",
            "Packet 2: 4s in storage\n",
            "\n",
            "Time 15: Frame 3 created at Node_0_0, destined for Node_2_2\n",
            "Packet 2: 5s in storage\n",
            "Time 15: Frame 2 forwarded from Node_0_2 to Node_1_2\n",
            "Packet 3: 1s in storage\n",
            "Time 16: Frame 3 forwarded from Node_0_0 to Node_1_0\n",
            "Packet 2: 6s in storage\n",
            "Packet 2: 7s in storage\n",
            "Time 17: Frame 2 forwarded from Node_1_2 to Node_2_2\n",
            "Packet 3: 2s in storage\n",
            "Packet 3: 3s in storage\n",
            "Time 18: Frame 3 forwarded from Node_1_0 to Node_2_0\n",
            "Packet 2: 8s in storage\n",
            "Time 18: Frame 2 delivered at Node_2_2, from Node_0_0 to Node_2_2\n",
            "Packet 3: 4s in storage\n",
            "Packet 3: 5s in storage\n",
            "Time 20: Frame 3 forwarded from Node_2_0 to Node_2_1\n",
            "Packet 3: 6s in storage\n",
            "Packet 3: 7s in storage\n",
            "Time 22: Frame 3 forwarded from Node_2_1 to Node_2_2\n",
            "Packet 3: 8s in storage\n",
            "Time 23: Frame 3 delivered at Node_2_2, from Node_0_0 to Node_2_2\n",
            "\n",
            "Simulation completed after generating and processing 3 packets.\n"
          ]
        }
      ]
    },
    {
      "cell_type": "code",
      "source": [
        "import unittest\n",
        "\n",
        "class TestNetworkSimulation(unittest.TestCase):\n",
        "\n",
        "    def setUp(self):\n",
        "        self.gridsize = 3\n",
        "        self.sender = [0, 0]\n",
        "        self.receiver = [2, 2]\n",
        "        initialize_simulation(self.gridsize, self.sender, self.receiver)\n",
        "        self.env = env\n",
        "        self.network = network\n",
        "        self.node_dict = node_dict\n",
        "        self.frames = frames\n",
        "\n",
        "    def test_frame_creation(self):\n",
        "        frame = Frame(self.env, 'Node_0_0', 'Node_2_2', 1)\n",
        "        self.assertEqual(frame.source, 'Node_0_0')\n",
        "        self.assertEqual(frame.destination, 'Node_2_2')\n",
        "        self.assertEqual(frame.frame_id, 1)\n",
        "        self.assertEqual(frame.status, 'in transit')\n",
        "        self.assertEqual(frame.path_traveled, ['Node_0_0'])\n",
        "\n",
        "    def test_node_initialization(self):\n",
        "        node = NetworkNode(self.env, 'Node_1_1', 'router', k=2)\n",
        "        self.assertEqual(node.name, 'Node_1_1')\n",
        "        self.assertEqual(node.node_type, 'router')\n",
        "        self.assertEqual(node.resource.capacity, 2)\n",
        "\n",
        "    def test_generate_frames(self):\n",
        "        self.env.process(generate_frames(self.env, self.node_dict['Node_0_0'], 'Node_2_2', interval=1, max_packets=5))\n",
        "        self.env.run(until=6)\n",
        "        self.assertEqual(len(self.frames), 5)\n",
        "        for i, frame in enumerate(self.frames):\n",
        "            self.assertEqual(frame.frame_id, i + 1)\n",
        "            self.assertEqual(frame.source, 'Node_0_0')\n",
        "            self.assertEqual(frame.destination, 'Node_2_2')\n",
        "\n",
        "    def test_custom_grid_initialization(self):\n",
        "        gridsize = 5\n",
        "        sender = [1, 1]\n",
        "        receiver = [3, 3]\n",
        "        initialize_simulation(gridsize, sender, receiver)\n",
        "        self.assertIn('Node_1_1', node_dict)\n",
        "        print(node_dict['Node_0_0'].node_type)\n",
        "        self.assertEqual(node_dict['Node_1_1'].node_type, 'sender')\n",
        "        self.assertIn('Node_3_3', node_dict)\n",
        "        self.assertEqual(node_dict['Node_3_3'].node_type, 'receiver')\n",
        "\n",
        "if __name__ == '__main__':\n",
        "    unittest.main(argv=['first-arg-is-ignored'], exit=False)"
      ],
      "metadata": {
        "colab": {
          "base_uri": "https://localhost:8080/"
        },
        "id": "44J12Qyy4RRY",
        "outputId": "3c5bb46c-e6c8-4de6-ccae-acd6edeb1e95"
      },
      "execution_count": 131,
      "outputs": [
        {
          "output_type": "stream",
          "name": "stderr",
          "text": [
            "....\n",
            "----------------------------------------------------------------------\n",
            "Ran 4 tests in 0.798s\n",
            "\n",
            "OK\n"
          ]
        },
        {
          "output_type": "stream",
          "name": "stdout",
          "text": [
            "router\n",
            "\n",
            "Time 1: Frame 1 created at Node_0_0, destined for Node_2_2\n",
            "\n",
            "Time 2: Frame 2 created at Node_0_0, destined for Node_2_2\n",
            "\n",
            "Time 3: Frame 3 created at Node_0_0, destined for Node_2_2\n",
            "\n",
            "Time 4: Frame 4 created at Node_0_0, destined for Node_2_2\n",
            "\n",
            "Time 5: Frame 5 created at Node_0_0, destined for Node_2_2\n"
          ]
        }
      ]
    },
    {
      "cell_type": "code",
      "source": [],
      "metadata": {
        "id": "aV-b-T00oBjh"
      },
      "execution_count": null,
      "outputs": []
    }
  ]
}