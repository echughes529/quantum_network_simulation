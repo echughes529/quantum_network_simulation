{
  "nbformat": 4,
  "nbformat_minor": 0,
  "metadata": {
    "colab": {
      "provenance": [],
      "authorship_tag": "ABX9TyMbf37yPNLtUe2/A7C6q8Nj"
    },
    "kernelspec": {
      "name": "python3",
      "display_name": "Python 3"
    },
    "language_info": {
      "name": "python"
    }
  },
  "cells": [
    {
      "cell_type": "code",
      "source": [
        "!pip install qiskit-aer"
      ],
      "metadata": {
        "id": "bOHz5waVcFBu"
      },
      "execution_count": null,
      "outputs": []
    },
    {
      "cell_type": "code",
      "execution_count": null,
      "metadata": {
        "id": "Boa3T8Rzbj20"
      },
      "outputs": [],
      "source": [
        "!pip install qiskit"
      ]
    },
    {
      "cell_type": "code",
      "source": [
        "import numpy as np\n",
        "import matplotlib.pyplot as plt\n",
        "from qiskit import QuantumCircuit, transpile\n",
        "from qiskit.visualization import plot_histogram\n",
        "from qiskit.circuit import QuantumCircuit, QuantumRegister, ClassicalRegister\n",
        "from qiskit_aer import AerSimulator\n",
        "from qiskit.quantum_info import Statevector"
      ],
      "metadata": {
        "id": "KJq2hnKObm89"
      },
      "execution_count": 3,
      "outputs": []
    },
    {
      "cell_type": "code",
      "source": [
        "def get_counts_from_qc(circuit):\n",
        "  shots = 30000\n",
        "  backend = AerSimulator()\n",
        "  transpiled_circuit = transpile(circuit, backend)\n",
        "  result = backend.run(transpiled_circuit, shots=shots).result()\n",
        "  counts = result.get_counts()\n",
        "  normalized_counts = {key: (value / shots) for key, value in counts.items()}\n",
        "  return normalized_counts"
      ],
      "metadata": {
        "id": "WUw_tkuXbsQR"
      },
      "execution_count": 4,
      "outputs": []
    },
    {
      "cell_type": "code",
      "source": [
        "n = 4\n",
        "\n",
        "qubits = QuantumRegister(n)\n",
        "clbits = ClassicalRegister(n)\n",
        "qc = QuantumCircuit(qubits, clbits)\n",
        "(q0, q1, q2, q3) = qubits\n",
        "(c0, c1, c2, c3) = clbits\n",
        "\n",
        "# ENTANGLEMENT GENERATION\n",
        "# generate entanglement between q0, q1 and q2, q3\n",
        "qc.h([q0, q2])\n",
        "qc.cx(q0,q1)\n",
        "qc.cx(q2,q3)\n",
        "qc.barrier()\n",
        "\n",
        "# ENTANGLEMENT SWAPPING\n",
        "# convert q1 and q2 from Bell basis to computational basis\n",
        "qc.cx(q1,q2)\n",
        "qc.h(q1)\n",
        "qc.barrier()\n",
        "\n",
        "qc.measure(q1,c1)\n",
        "qc.measure(q2,c2)\n",
        "\n",
        "# measure to see what Bell state we have in qubits 1 and 2,\n",
        "# telling us what Bell state we have in qubits 0 and 4\n",
        "\n",
        "qc.barrier()\n",
        "\n",
        "# bell state in q0, q4 corrections based on bell measurement\n",
        "with qc.if_test((c1,0)):\n",
        "  with qc.if_test((c2,0)):\n",
        "    qc.id(q3)\n",
        "qc.barrier()\n",
        "\n",
        "with qc.if_test((c1,1)):\n",
        "    with qc.if_test((c2,0)):\n",
        "      qc.z(q3)\n",
        "qc.barrier()\n",
        "\n",
        "with qc.if_test((c1,0)):\n",
        "  with qc.if_test((c2,1)):\n",
        "    qc.x(q3)\n",
        "qc.barrier()\n",
        "\n",
        "with qc.if_test((c1,1)):\n",
        "  with qc.if_test((c2,1)):\n",
        "    qc.x(q3)\n",
        "    qc.z(q3)\n",
        "\n",
        "qc.barrier()\n",
        "qc.measure(q0,c0)\n",
        "qc.measure(q3,c3)\n",
        "\n",
        "\n",
        "qc.draw()"
      ],
      "metadata": {
        "colab": {
          "base_uri": "https://localhost:8080/",
          "height": 737
        },
        "id": "V0CZ9gVBzV6L",
        "outputId": "d254274c-7e84-487e-f98e-d18789b6891a"
      },
      "execution_count": 9,
      "outputs": [
        {
          "output_type": "execute_result",
          "data": {
            "text/plain": [
              "       ┌───┐      ░            ░        ░                              »\n",
              "q12_0: ┤ H ├──■───░────────────░────────░──────────────────────────────»\n",
              "       └───┘┌─┴─┐ ░      ┌───┐ ░ ┌─┐    ░                              »\n",
              "q12_1: ─────┤ X ├─░───■──┤ H ├─░─┤M├────░──────────────────────────────»\n",
              "       ┌───┐└───┘ ░ ┌─┴─┐└───┘ ░ └╥┘┌─┐ ░                              »\n",
              "q12_2: ┤ H ├──■───░─┤ X ├──────░──╫─┤M├─░──────────────────────────────»\n",
              "       └───┘┌─┴─┐ ░ └───┘      ░  ║ └╥┘ ░   ┌──────     ┌──────   ┌───┐»\n",
              "q12_3: ─────┤ X ├─░────────────░──╫──╫──░───┤ If-0  ────┤ If-1  ──┤ I ├»\n",
              "            └───┘ ░            ░  ║  ║  ░   └──╥───     └──╥───   └───┘»\n",
              "                                  ║  ║    ┌────╨─────┐┌────╨─────┐     »\n",
              " c3: 4/═══════════════════════════╩══╩════╡ c3_1=0x0 ╞╡ c3_2=0x0 ╞═════»\n",
              "                                  1  2    └──────────┘└──────────┘     »\n",
              "«                            ░                                                 »\n",
              "«q12_0: ─────────────────────░─────────────────────────────────────────────────»\n",
              "«                            ░                                                 »\n",
              "«q12_1: ─────────────────────░─────────────────────────────────────────────────»\n",
              "«                            ░                                                 »\n",
              "«q12_2: ─────────────────────░─────────────────────────────────────────────────»\n",
              "«        ───────┐  ───────┐  ░   ┌──────     ┌──────   ┌───┐ ───────┐  ───────┐»\n",
              "«q12_3:   End-1 ├─  End-0 ├──░───┤ If-0  ────┤ If-1  ──┤ Z ├  End-1 ├─  End-0 ├»\n",
              "«        ───────┘  ───────┘  ░   └──╥───     └──╥───   └───┘ ───────┘  ───────┘»\n",
              "«                              ┌────╨─────┐┌────╨─────┐                        »\n",
              "« c3: 4/═══════════════════════╡ c3_1=0x1 ╞╡ c3_2=0x0 ╞════════════════════════»\n",
              "«                              └──────────┘└──────────┘                        »\n",
              "«         ░                                                   ░             »\n",
              "«q12_0: ──░───────────────────────────────────────────────────░─────────────»\n",
              "«         ░                                                   ░             »\n",
              "«q12_1: ──░───────────────────────────────────────────────────░─────────────»\n",
              "«         ░                                                   ░             »\n",
              "«q12_2: ──░───────────────────────────────────────────────────░─────────────»\n",
              "«         ░   ┌──────     ┌──────   ┌───┐ ───────┐  ───────┐  ░   ┌──────   »\n",
              "«q12_3: ──░───┤ If-0  ────┤ If-1  ──┤ X ├  End-1 ├─  End-0 ├──░───┤ If-0  ──»\n",
              "«         ░   └──╥───     └──╥───   └───┘ ───────┘  ───────┘  ░   └──╥───   »\n",
              "«           ┌────╨─────┐┌────╨─────┐                            ┌────╨─────┐»\n",
              "« c3: 4/════╡ c3_1=0x0 ╞╡ c3_2=0x1 ╞════════════════════════════╡ c3_1=0x1 ╞»\n",
              "«           └──────────┘└──────────┘                            └──────────┘»\n",
              "«                                                  ░ ┌─┐   \n",
              "«q12_0: ───────────────────────────────────────────░─┤M├───\n",
              "«                                                  ░ └╥┘   \n",
              "«q12_1: ───────────────────────────────────────────░──╫────\n",
              "«                                                  ░  ║    \n",
              "«q12_2: ───────────────────────────────────────────░──╫────\n",
              "«         ┌──────   ┌───┐┌───┐ ───────┐  ───────┐  ░  ║ ┌─┐\n",
              "«q12_3: ──┤ If-1  ──┤ X ├┤ Z ├  End-1 ├─  End-0 ├──░──╫─┤M├\n",
              "«         └──╥───   └───┘└───┘ ───────┘  ───────┘  ░  ║ └╥┘\n",
              "«       ┌────╨─────┐                                  ║  ║ \n",
              "« c3: 4/╡ c3_2=0x1 ╞══════════════════════════════════╩══╩═\n",
              "«       └──────────┘                                  0  3 "
            ],
            "text/html": [
              "<pre style=\"word-wrap: normal;white-space: pre;background: #fff0;line-height: 1.1;font-family: &quot;Courier New&quot;,Courier,monospace\">       ┌───┐      ░            ░        ░                              »\n",
              "q12_0: ┤ H ├──■───░────────────░────────░──────────────────────────────»\n",
              "       └───┘┌─┴─┐ ░      ┌───┐ ░ ┌─┐    ░                              »\n",
              "q12_1: ─────┤ X ├─░───■──┤ H ├─░─┤M├────░──────────────────────────────»\n",
              "       ┌───┐└───┘ ░ ┌─┴─┐└───┘ ░ └╥┘┌─┐ ░                              »\n",
              "q12_2: ┤ H ├──■───░─┤ X ├──────░──╫─┤M├─░──────────────────────────────»\n",
              "       └───┘┌─┴─┐ ░ └───┘      ░  ║ └╥┘ ░   ┌──────     ┌──────   ┌───┐»\n",
              "q12_3: ─────┤ X ├─░────────────░──╫──╫──░───┤ If-0  ────┤ If-1  ──┤ I ├»\n",
              "            └───┘ ░            ░  ║  ║  ░   └──╥───     └──╥───   └───┘»\n",
              "                                  ║  ║    ┌────╨─────┐┌────╨─────┐     »\n",
              " c3: 4/═══════════════════════════╩══╩════╡ c3_1=0x0 ╞╡ c3_2=0x0 ╞═════»\n",
              "                                  1  2    └──────────┘└──────────┘     »\n",
              "«                            ░                                                 »\n",
              "«q12_0: ─────────────────────░─────────────────────────────────────────────────»\n",
              "«                            ░                                                 »\n",
              "«q12_1: ─────────────────────░─────────────────────────────────────────────────»\n",
              "«                            ░                                                 »\n",
              "«q12_2: ─────────────────────░─────────────────────────────────────────────────»\n",
              "«        ───────┐  ───────┐  ░   ┌──────     ┌──────   ┌───┐ ───────┐  ───────┐»\n",
              "«q12_3:   End-1 ├─  End-0 ├──░───┤ If-0  ────┤ If-1  ──┤ Z ├  End-1 ├─  End-0 ├»\n",
              "«        ───────┘  ───────┘  ░   └──╥───     └──╥───   └───┘ ───────┘  ───────┘»\n",
              "«                              ┌────╨─────┐┌────╨─────┐                        »\n",
              "« c3: 4/═══════════════════════╡ c3_1=0x1 ╞╡ c3_2=0x0 ╞════════════════════════»\n",
              "«                              └──────────┘└──────────┘                        »\n",
              "«         ░                                                   ░             »\n",
              "«q12_0: ──░───────────────────────────────────────────────────░─────────────»\n",
              "«         ░                                                   ░             »\n",
              "«q12_1: ──░───────────────────────────────────────────────────░─────────────»\n",
              "«         ░                                                   ░             »\n",
              "«q12_2: ──░───────────────────────────────────────────────────░─────────────»\n",
              "«         ░   ┌──────     ┌──────   ┌───┐ ───────┐  ───────┐  ░   ┌──────   »\n",
              "«q12_3: ──░───┤ If-0  ────┤ If-1  ──┤ X ├  End-1 ├─  End-0 ├──░───┤ If-0  ──»\n",
              "«         ░   └──╥───     └──╥───   └───┘ ───────┘  ───────┘  ░   └──╥───   »\n",
              "«           ┌────╨─────┐┌────╨─────┐                            ┌────╨─────┐»\n",
              "« c3: 4/════╡ c3_1=0x0 ╞╡ c3_2=0x1 ╞════════════════════════════╡ c3_1=0x1 ╞»\n",
              "«           └──────────┘└──────────┘                            └──────────┘»\n",
              "«                                                  ░ ┌─┐   \n",
              "«q12_0: ───────────────────────────────────────────░─┤M├───\n",
              "«                                                  ░ └╥┘   \n",
              "«q12_1: ───────────────────────────────────────────░──╫────\n",
              "«                                                  ░  ║    \n",
              "«q12_2: ───────────────────────────────────────────░──╫────\n",
              "«         ┌──────   ┌───┐┌───┐ ───────┐  ───────┐  ░  ║ ┌─┐\n",
              "«q12_3: ──┤ If-1  ──┤ X ├┤ Z ├  End-1 ├─  End-0 ├──░──╫─┤M├\n",
              "«         └──╥───   └───┘└───┘ ───────┘  ───────┘  ░  ║ └╥┘\n",
              "«       ┌────╨─────┐                                  ║  ║ \n",
              "« c3: 4/╡ c3_2=0x1 ╞══════════════════════════════════╩══╩═\n",
              "«       └──────────┘                                  0  3 </pre>"
            ]
          },
          "metadata": {},
          "execution_count": 9
        }
      ]
    },
    {
      "cell_type": "code",
      "source": [
        "plot_histogram(get_counts_from_qc(qc), figsize=(10,5))"
      ],
      "metadata": {
        "colab": {
          "base_uri": "https://localhost:8080/",
          "height": 469
        },
        "id": "w-9ZjsTJb7PB",
        "outputId": "d733d6b1-8bd8-4e87-9ab7-9ac1c0000627"
      },
      "execution_count": 10,
      "outputs": [
        {
          "output_type": "execute_result",
          "data": {
            "text/plain": [
              "<Figure size 1000x500 with 1 Axes>"
            ],
            "image/png": "[encoded data removed]"
          },
          "metadata": {},
          "execution_count": 10
        }
      ]
    }
  ]
}