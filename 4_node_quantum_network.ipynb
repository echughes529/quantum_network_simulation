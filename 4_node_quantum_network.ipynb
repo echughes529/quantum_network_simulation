{
  "nbformat": 4,
  "nbformat_minor": 0,
  "metadata": {
    "colab": {
      "provenance": []
    },
    "kernelspec": {
      "name": "python3",
      "display_name": "Python 3"
    },
    "language_info": {
      "name": "python"
    }
  },
  "cells": [
    {
      "cell_type": "code",
      "source": [
        "!pip install qiskit-aer"
      ],
      "metadata": {
        "id": "bOHz5waVcFBu"
      },
      "execution_count": null,
      "outputs": []
    },
    {
      "cell_type": "code",
      "execution_count": null,
      "metadata": {
        "id": "Boa3T8Rzbj20"
      },
      "outputs": [],
      "source": [
        "!pip install qiskit"
      ]
    },
    {
      "cell_type": "code",
      "source": [
        "import numpy as np\n",
        "import matplotlib.pyplot as plt\n",
        "from qiskit import QuantumCircuit, transpile\n",
        "from qiskit.visualization import plot_histogram\n",
        "from qiskit.circuit import QuantumCircuit, QuantumRegister, ClassicalRegister\n",
        "from qiskit_aer import AerSimulator"
      ],
      "metadata": {
        "id": "KJq2hnKObm89"
      },
      "execution_count": 8,
      "outputs": []
    },
    {
      "cell_type": "code",
      "source": [
        "def get_counts_from_qc(circuit):\n",
        "  shots = 30000\n",
        "  backend = AerSimulator()\n",
        "  transpiled_circuit = transpile(circuit, backend)\n",
        "  result = backend.run(transpiled_circuit, shots=shots).result()\n",
        "  counts = result.get_counts()\n",
        "  normalized_counts = {key: (value / shots) for key, value in counts.items()}\n",
        "  return normalized_counts"
      ],
      "metadata": {
        "id": "WUw_tkuXbsQR"
      },
      "execution_count": 12,
      "outputs": []
    },
    {
      "cell_type": "code",
      "source": [
        "n = 4\n",
        "\n",
        "qubits = QuantumRegister(n)\n",
        "clbits = ClassicalRegister(n)\n",
        "qc = QuantumCircuit(qubits, clbits)\n",
        "(q0, q1, q2, q3) = qubits\n",
        "(c0, c1, c2, c3) = clbits\n",
        "\n",
        "# ENTANGLEMENT GENERATION\n",
        "# generate entanglement between q0, q1 and q2, q3\n",
        "qc.h([q0, q2])\n",
        "qc.cx(q0,q1)\n",
        "qc.cx(q2,q3)\n",
        "qc.barrier()\n",
        "\n",
        "\n",
        "# ENTANGLEMENT SWAPPING\n",
        "# convert q1 and q2 from Bell basis to computational basis\n",
        "qc.cx(q1,q2)\n",
        "qc.h(q1)\n",
        "qc.barrier()\n",
        "\n",
        "# measure to see what Bell state we have in qubits 1 and 2,\n",
        "# telling us what Bell state we have in qubits 0 and 4\n",
        "qc.measure(q1,c1)\n",
        "qc.measure(q2,c2)\n",
        "qc.barrier()\n",
        "\n",
        "\"\"\"\n",
        "# testing out to see if putting qubits 1 and 2 back to bell basis has any effect (it doesnt)\n",
        "qc.h(q1)\n",
        "qc.cx(q1,q2)\n",
        "qc.barrier()\n",
        "\"\"\"\n",
        "\n",
        "# bell state in q0, q4 corrections based on bell measurement\n",
        "with qc.if_test((c1,0) and (c2,0)):\n",
        "  qc.id(q3)\n",
        "\n",
        "with qc.if_test((c1,1) and (c2,0)):\n",
        "  qc.z(q3)\n",
        "\n",
        "with qc.if_test((c1,0) and (c2,1)):\n",
        "  qc.x(q3)\n",
        "\n",
        "with qc.if_test((c1,1) and (c2,1)):\n",
        "  qc.x(q3)\n",
        "  qc.z(q3)\n",
        "\n",
        "qc.barrier()\n",
        "qc.measure(q0,c0)\n",
        "qc.measure(q3,c3)\n",
        "\n",
        "qc.draw()"
      ],
      "metadata": {
        "colab": {
          "base_uri": "https://localhost:8080/",
          "height": 542
        },
        "id": "XXh1I1HSb2fg",
        "outputId": "809f555a-a807-411a-c618-3d4967555860"
      },
      "execution_count": 13,
      "outputs": [
        {
          "output_type": "execute_result",
          "data": {
            "text/plain": [
              "      ┌───┐      ░            ░        ░                            »\n",
              "q3_0: ┤ H ├──■───░────────────░────────░────────────────────────────»\n",
              "      └───┘┌─┴─┐ ░      ┌───┐ ░ ┌─┐    ░                            »\n",
              "q3_1: ─────┤ X ├─░───■──┤ H ├─░─┤M├────░────────────────────────────»\n",
              "      ┌───┐└───┘ ░ ┌─┴─┐└───┘ ░ └╥┘┌─┐ ░                            »\n",
              "q3_2: ┤ H ├──■───░─┤ X ├──────░──╫─┤M├─░────────────────────────────»\n",
              "      └───┘┌─┴─┐ ░ └───┘      ░  ║ └╥┘ ░   ┌──────   ┌───┐ ───────┐ »\n",
              "q3_3: ─────┤ X ├─░────────────░──╫──╫──░───┤ If-0  ──┤ I ├  End-0 ├─»\n",
              "           └───┘ ░            ░  ║  ║  ░   └──╥───   └───┘ ───────┘ »\n",
              "                                 ║  ║    ┌────╨─────┐               »\n",
              "c2: 4/═══════════════════════════╩══╩════╡ c2_2=0x0 ╞═══════════════»\n",
              "                                 1  2    └──────────┘               »\n",
              "«                                                                             »\n",
              "«q3_0: ───────────────────────────────────────────────────────────────────────»\n",
              "«                                                                             »\n",
              "«q3_1: ───────────────────────────────────────────────────────────────────────»\n",
              "«                                                                             »\n",
              "«q3_2: ───────────────────────────────────────────────────────────────────────»\n",
              "«        ┌──────   ┌───┐ ───────┐   ┌──────   ┌───┐ ───────┐   ┌──────   ┌───┐»\n",
              "«q3_3: ──┤ If-0  ──┤ Z ├  End-0 ├───┤ If-0  ──┤ X ├  End-0 ├───┤ If-0  ──┤ X ├»\n",
              "«        └──╥───   └───┘ ───────┘   └──╥───   └───┘ ───────┘   └──╥───   └───┘»\n",
              "«      ┌────╨─────┐               ┌────╨─────┐               ┌────╨─────┐     »\n",
              "«c2: 4/╡ c2_2=0x0 ╞═══════════════╡ c2_2=0x1 ╞═══════════════╡ c2_2=0x1 ╞═════»\n",
              "«      └──────────┘               └──────────┘               └──────────┘     »\n",
              "«                      ░ ┌─┐   \n",
              "«q3_0: ────────────────░─┤M├───\n",
              "«                      ░ └╥┘   \n",
              "«q3_1: ────────────────░──╫────\n",
              "«                      ░  ║    \n",
              "«q3_2: ────────────────░──╫────\n",
              "«      ┌───┐ ───────┐  ░  ║ ┌─┐\n",
              "«q3_3: ┤ Z ├  End-0 ├──░──╫─┤M├\n",
              "«      └───┘ ───────┘  ░  ║ └╥┘\n",
              "«c2: 4/═══════════════════╩══╩═\n",
              "«                         0  3 "
            ],
            "text/html": [
              "<pre style=\"word-wrap: normal;white-space: pre;background: #fff0;line-height: 1.1;font-family: &quot;Courier New&quot;,Courier,monospace\">      ┌───┐      ░            ░        ░                            »\n",
              "q3_0: ┤ H ├──■───░────────────░────────░────────────────────────────»\n",
              "      └───┘┌─┴─┐ ░      ┌───┐ ░ ┌─┐    ░                            »\n",
              "q3_1: ─────┤ X ├─░───■──┤ H ├─░─┤M├────░────────────────────────────»\n",
              "      ┌───┐└───┘ ░ ┌─┴─┐└───┘ ░ └╥┘┌─┐ ░                            »\n",
              "q3_2: ┤ H ├──■───░─┤ X ├──────░──╫─┤M├─░────────────────────────────»\n",
              "      └───┘┌─┴─┐ ░ └───┘      ░  ║ └╥┘ ░   ┌──────   ┌───┐ ───────┐ »\n",
              "q3_3: ─────┤ X ├─░────────────░──╫──╫──░───┤ If-0  ──┤ I ├  End-0 ├─»\n",
              "           └───┘ ░            ░  ║  ║  ░   └──╥───   └───┘ ───────┘ »\n",
              "                                 ║  ║    ┌────╨─────┐               »\n",
              "c2: 4/═══════════════════════════╩══╩════╡ c2_2=0x0 ╞═══════════════»\n",
              "                                 1  2    └──────────┘               »\n",
              "«                                                                             »\n",
              "«q3_0: ───────────────────────────────────────────────────────────────────────»\n",
              "«                                                                             »\n",
              "«q3_1: ───────────────────────────────────────────────────────────────────────»\n",
              "«                                                                             »\n",
              "«q3_2: ───────────────────────────────────────────────────────────────────────»\n",
              "«        ┌──────   ┌───┐ ───────┐   ┌──────   ┌───┐ ───────┐   ┌──────   ┌───┐»\n",
              "«q3_3: ──┤ If-0  ──┤ Z ├  End-0 ├───┤ If-0  ──┤ X ├  End-0 ├───┤ If-0  ──┤ X ├»\n",
              "«        └──╥───   └───┘ ───────┘   └──╥───   └───┘ ───────┘   └──╥───   └───┘»\n",
              "«      ┌────╨─────┐               ┌────╨─────┐               ┌────╨─────┐     »\n",
              "«c2: 4/╡ c2_2=0x0 ╞═══════════════╡ c2_2=0x1 ╞═══════════════╡ c2_2=0x1 ╞═════»\n",
              "«      └──────────┘               └──────────┘               └──────────┘     »\n",
              "«                      ░ ┌─┐   \n",
              "«q3_0: ────────────────░─┤M├───\n",
              "«                      ░ └╥┘   \n",
              "«q3_1: ────────────────░──╫────\n",
              "«                      ░  ║    \n",
              "«q3_2: ────────────────░──╫────\n",
              "«      ┌───┐ ───────┐  ░  ║ ┌─┐\n",
              "«q3_3: ┤ Z ├  End-0 ├──░──╫─┤M├\n",
              "«      └───┘ ───────┘  ░  ║ └╥┘\n",
              "«c2: 4/═══════════════════╩══╩═\n",
              "«                         0  3 </pre>"
            ]
          },
          "metadata": {},
          "execution_count": 13
        }
      ]
    },
    {
      "cell_type": "code",
      "source": [
        "plot_histogram(get_counts_from_qc(qc))"
      ],
      "metadata": {
        "colab": {
          "base_uri": "https://localhost:8080/",
          "height": 454
        },
        "id": "w-9ZjsTJb7PB",
        "outputId": "c9d9c2a6-ba46-4fe2-b154-eea125995617"
      },
      "execution_count": 14,
      "outputs": [
        {
          "output_type": "execute_result",
          "data": {
            "text/plain": [
              "<Figure size 640x480 with 1 Axes>"
            ],
            "image/png": "[encoded data removed]"
          },
          "metadata": {},
          "execution_count": 14
        }
      ]
    },
    {
      "cell_type": "code",
      "source": [],
      "metadata": {
        "id": "x1FKlhWob-hP"
      },
      "execution_count": null,
      "outputs": []
    }
  ]
}