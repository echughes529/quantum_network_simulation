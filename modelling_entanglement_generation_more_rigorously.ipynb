{
  "nbformat": 4,
  "nbformat_minor": 0,
  "metadata": {
    "colab": {
      "provenance": [],
      "authorship_tag": "ABX9TyNDunBQhTcEc3llPFJoFIvO",
      "include_colab_link": true
    },
    "kernelspec": {
      "name": "python3",
      "display_name": "Python 3"
    },
    "language_info": {
      "name": "python"
    }
  },
  "cells": [
    {
      "cell_type": "markdown",
      "metadata": {
        "id": "view-in-github",
        "colab_type": "text"
      },
      "source": [
        "<a href=\"https://colab.research.google.com/github/echughes529/quantum_network_simulation/blob/main/modelling_entanglement_generation_more_rigorously.ipynb\" target=\"_parent\"><img src=\"https://colab.research.google.com/assets/colab-badge.svg\" alt=\"Open In Colab\"/></a>"
      ]
    },
    {
      "cell_type": "code",
      "source": [
        "!pip install qutip"
      ],
      "metadata": {
        "colab": {
          "base_uri": "https://localhost:8080/"
        },
        "id": "OCA6ZCwliHln",
        "outputId": "f05786e3-2f6e-4226-c9c2-61ca7ae08fcd"
      },
      "execution_count": 1,
      "outputs": [
        {
          "output_type": "stream",
          "name": "stdout",
          "text": [
            "Collecting qutip\n",
            "  Downloading qutip-5.0.3-cp310-cp310-manylinux_2_17_x86_64.manylinux2014_x86_64.whl (28.0 MB)\n",
            "\u001b[2K     \u001b[90m━━━━━━━━━━━━━━━━━━━━━━━━━━━━━━━━━━━━━━━━\u001b[0m \u001b[32m28.0/28.0 MB\u001b[0m \u001b[31m16.2 MB/s\u001b[0m eta \u001b[36m0:00:00\u001b[0m\n",
            "\u001b[?25hRequirement already satisfied: numpy>=1.22 in /usr/local/lib/python3.10/dist-packages (from qutip) (1.25.2)\n",
            "Requirement already satisfied: scipy>=1.9 in /usr/local/lib/python3.10/dist-packages (from qutip) (1.11.4)\n",
            "Requirement already satisfied: packaging in /usr/local/lib/python3.10/dist-packages (from qutip) (24.1)\n",
            "Installing collected packages: qutip\n",
            "Successfully installed qutip-5.0.3\n"
          ]
        }
      ]
    },
    {
      "cell_type": "code",
      "execution_count": 4,
      "metadata": {
        "id": "5gPzjcTdgh04"
      },
      "outputs": [],
      "source": [
        "import numpy as np\n",
        "import matplotlib.pyplot as plt\n",
        "from qutip import *\n"
      ]
    },
    {
      "cell_type": "markdown",
      "source": [
        "## Setting up"
      ],
      "metadata": {
        "id": "Tb-dxOfWwgHq"
      }
    },
    {
      "cell_type": "code",
      "source": [
        "# setting up state\n",
        "zero_ket = basis(2,0)\n",
        "zero_rho = basis(2,0) * basis(2,0).dag()\n",
        "num_qubits = 4\n",
        "psi0 = tensor([zero_ket] * num_qubits)\n",
        "\n",
        "\n",
        "# defining gates\n",
        "H = lambda: (1/np.sqrt(2)) * (sigmaz() + sigmax())\n",
        "CNOT = lambda: Qobj([[1, 0, 0, 0], [0, 1, 0, 0], [0, 0, 0, 1], [0, 0, 1, 0]], dims=[[2, 2], [2, 2]])\n",
        "I = lambda: qeye(2)\n"
      ],
      "metadata": {
        "id": "amJ96gsIh-Z6"
      },
      "execution_count": 5,
      "outputs": []
    },
    {
      "cell_type": "markdown",
      "source": [
        "## Entanglement Generation"
      ],
      "metadata": {
        "id": "ZvOuTBQEle_J"
      }
    },
    {
      "cell_type": "code",
      "source": [
        "def entanglement_generation_event(q1, q2):\n",
        "  num_qubits_left = q1\n",
        "  num_qubits_right = (num_qubits - 1) - q2\n",
        "\n",
        "  # entanglement op over the 2 qubits\n",
        "  entanglement_op = CNOT() * tensor(H(), I())\n",
        "\n",
        "  # generate identity gates to the left (if there are any) and adds to the entanglment op\n",
        "  if num_qubits_left > 0:\n",
        "    left_op = I()\n",
        "    for i in range(num_qubits_left-1):\n",
        "      left_op = tensor(left_op, I())\n",
        "    entanglement_op = tensor(left_op, entanglement_op)\n",
        "\n",
        "  # generate identity gates to the right (if there are any) and adds to the entanglment op\n",
        "  if num_qubits_right>0:\n",
        "    right_op = I()\n",
        "    for i in range(num_qubits_right-1):\n",
        "      right_op = tensor(right_op, I())\n",
        "    entanglement_op = tensor(entanglement_op, right_op)\n",
        "\n",
        "  return entanglement_op"
      ],
      "metadata": {
        "id": "09onJ5Va1enm"
      },
      "execution_count": 6,
      "outputs": []
    },
    {
      "cell_type": "code",
      "source": [
        "# testing function\n",
        "def test_entang_gen_w_statevec(qubit1, qubit2):\n",
        "  \"\"\"\n",
        "  Testing the entanglment generation function with statevectors\n",
        "  \"\"\"\n",
        "  psi0 = tensor([zero_ket] * num_qubits)\n",
        "  for i in range (num_qubits):\n",
        "    print(f'Repeater {i}\\n', (entanglement_generation_event(qubit1, qubit2) * psi0).ptrace(i).full(), '\\n')\n",
        "\n",
        "test_entang_gen_w_statevec(0, 1)"
      ],
      "metadata": {
        "colab": {
          "base_uri": "https://localhost:8080/"
        },
        "id": "LfiC-wG4wI1n",
        "outputId": "a79d1fae-3cde-4759-f1c4-188b0528fd24"
      },
      "execution_count": 7,
      "outputs": [
        {
          "output_type": "stream",
          "name": "stdout",
          "text": [
            "Repeater 0\n",
            " [[0.5+0.j 0. +0.j]\n",
            " [0. +0.j 0.5+0.j]] \n",
            "\n",
            "Repeater 1\n",
            " [[0.5+0.j 0. +0.j]\n",
            " [0. +0.j 0.5+0.j]] \n",
            "\n",
            "Repeater 2\n",
            " [[1.+0.j 0.+0.j]\n",
            " [0.+0.j 0.+0.j]] \n",
            "\n",
            "Repeater 3\n",
            " [[1.+0.j 0.+0.j]\n",
            " [0.+0.j 0.+0.j]] \n",
            "\n"
          ]
        }
      ]
    },
    {
      "cell_type": "markdown",
      "source": [
        "Entanglement preparation time: $T_p$\n",
        "\n",
        "Time to travel from one repeater to another: $\\frac{d}{c}$\n",
        "\n",
        "Total time to establish entanglement link: $T_p + 2\\frac{d}{c}$\n",
        "\n",
        "Channel efficiency: $\\eta_{ch}(L) = e^{-\\frac{L}{L_{att}}}$\n",
        "\n",
        "Total probability that a pair is established between two neighbouring repeaters separated by a distance $L$ in one trial: $\\eta = P_{link} \\times \\eta_{ch}(L)$"
      ],
      "metadata": {
        "id": "AuNsRF9tiyJr"
      }
    },
    {
      "cell_type": "code",
      "source": [
        "# modelling time it takes to complete entangelment generation event\n",
        "L_att = 22e3  # attenuation length of optical fibers, 22km\n",
        "\n",
        "# prob pair is established not taking into account distance based losses\n",
        "P_link = 1\n",
        "\n",
        "# channel efficiency\n",
        "n_ch = lambda L: np.exp(-L/L_att)\n",
        "\n",
        "# total probability that a pair is established\n",
        "#n = P_link * n_ch\n"
      ],
      "metadata": {
        "id": "FL75m8E4n8nP"
      },
      "execution_count": 10,
      "outputs": []
    },
    {
      "cell_type": "markdown",
      "source": [
        "## Dark Counts\n",
        "\n",
        "The probability that a dark count will occur in a detection window: $p_d$. For a detector with a dark count rate of 1 Hz and detection window of $1 \\mu s$ we get $p_d = 10^{-6}$"
      ],
      "metadata": {
        "id": "jgKLO37gmo4z"
      }
    },
    {
      "cell_type": "code",
      "source": [
        "T_p = 1e-3\n",
        "num_qubits = 5\n",
        "total_L = 100\n",
        "d = total_L/(num_qubits - 1)\n",
        "c = 2e8 # speed of light in fiber optic\n",
        "eta_eff = 0.5  # Success probability\n",
        "\n",
        "\n",
        "def time_for_link(eta_eff):\n",
        "    \"\"\"\n",
        "    Gets the time taken to generate entanglement between 2 adjacent nodes\n",
        "    Does this by generating random samples from a geometric distribution with\n",
        "    success probability eta_eff and then multiplying by time taken for one trial.\n",
        "\n",
        "    Parameters:\n",
        "    eta_eff (float): Success probability for the geometric distribution.\n",
        "    num_samples (int): Number of random samples to generate.\n",
        "\n",
        "    Returns:\n",
        "    np.ndarray: Array of random samples from the geometric distribution.\n",
        "    \"\"\"\n",
        "    no_of_trials = np.random.geometric(eta_eff)\n",
        "    time_per_trial = T_p + 2 * d / c\n",
        "    time_per_link = no_of_trials * time_per_trial\n",
        "    return time_per_link\n",
        "\n",
        "\n",
        "samples = time_for_link(eta_eff)\n",
        "print(samples)\n"
      ],
      "metadata": {
        "colab": {
          "base_uri": "https://localhost:8080/"
        },
        "id": "1DbsVsfpouvM",
        "outputId": "816cb111-9a70-4009-8e0a-b7780611b294"
      },
      "execution_count": 9,
      "outputs": [
        {
          "output_type": "stream",
          "name": "stdout",
          "text": [
            "0.0020005\n"
          ]
        }
      ]
    },
    {
      "cell_type": "markdown",
      "source": [
        "# Modelling Decoherence Error"
      ],
      "metadata": {
        "id": "5ismHxLLxmd3"
      }
    },
    {
      "cell_type": "markdown",
      "source": [
        "When generating entanglement we always generate the entangled pair in the lowest station and then send one of these entangled qubits to the higher station.\n",
        "\n",
        "This means that q0 experiences memory noise for 2d/c and q1 experiences memory noise for d/c in the entanglement event"
      ],
      "metadata": {
        "id": "yeHiNrdUx4sT"
      }
    },
    {
      "cell_type": "code",
      "source": [
        "def bell_state(state):\n",
        "  \"\"\"\n",
        "    returns requested bell state\n",
        "  \"\"\"\n",
        "  if state == 'phi+':\n",
        "      phi_plus_ket = (tensor(basis(2, 0), basis(2, 0)) + tensor(basis(2, 1), basis(2, 1))).unit()\n",
        "      return phi_plus_ket * phi_plus_ket.dag()\n",
        "\n",
        "  elif state == 'phi-':\n",
        "      phi_minus_ket = (tensor(basis(2, 0), basis(2, 0)) - tensor(basis(2, 1), basis(2, 1))).unit()\n",
        "      return phi_minus_ket * phi_minus_ket.dag()\n",
        "\n",
        "  elif state == 'psi+':\n",
        "      psi_plus_ket = (tensor(basis(2, 0), basis(2, 1)) + tensor(basis(2, 1), basis(2, 0))).unit()\n",
        "      return psi_plus_ket * psi_plus_ket.dag()\n",
        "\n",
        "  elif state == 'psi-':\n",
        "      psi_minus_ket = (tensor(basis(2, 0), basis(2, 1)) - tensor(basis(2, 1), basis(2, 0))).unit()\n",
        "      return psi_minus_ket * psi_minus_ket.dag()\n",
        "\n",
        "  else:\n",
        "      raise ValueError(\"Invalid Bell state label\")\n",
        "\n",
        "\n",
        "def pad_op_to_left(op, num_identities):\n",
        "  if num_identities > 0:\n",
        "    left_op = I()\n",
        "    for i in range(num_identities - 1):\n",
        "      left_op = tensor(left_op, I())\n",
        "    return tensor(left_op, op)\n",
        "  else:\n",
        "    return op\n",
        "\n",
        "def pad_op_to_right(op, num_identities):\n",
        "  if num_identities > 0:\n",
        "    right_op = I()\n",
        "    for i in range(num_identities - 1):\n",
        "      right_op = tensor(right_op, I())\n",
        "    return tensor(op, right_op)\n",
        "  else:\n",
        "    return op\n",
        "\n",
        "\n"
      ],
      "metadata": {
        "id": "-UecuC-Pm8y5"
      },
      "execution_count": 14,
      "outputs": []
    },
    {
      "cell_type": "code",
      "source": [
        "def entanglement_generation_with_ptracing(rho_initial, q1, q2, F_initial):\n",
        "  \"\"\"\n",
        "    This function generates entanglement across 2 neighbouring repeater stations\n",
        "    It does this by first creating a bell pair across 2 qubits, padding this out\n",
        "    with identities so that it matches the size of the network, then it multiplies\n",
        "    this with the initial rho of the network.\n",
        "\n",
        "    This therefore assumes that the initial state of the qubits it generates\n",
        "    entanglement accross is 0. It will be incorrect otherwise.\n",
        "  \"\"\"\n",
        "  # SET UP\n",
        "  num_qubits_left = q1\n",
        "  num_qubits_right = (num_qubits - 1) - q2\n",
        "  qubits_left_list = [i for i in range(num_qubits_left)]\n",
        "  qubits_right_list = [i + num_qubits_left+2 for i in range(num_qubits_right)]\n",
        "\n",
        "\n",
        "  # GENERATING ENTANGLEMENT\n",
        "  # initial density matrix of bell pair, taking into account errors initial fidelity\n",
        "  rho = F_initial * bell_state('phi+') + ((1 - F_initial) / 3) * (bell_state('phi-') +\n",
        "                                                                       bell_state('psi+') +\n",
        "                                                                       bell_state('psi-'))\n",
        "  if len(qubits_left_list) != 0:\n",
        "    rho_qubits_left = rho_initial.ptrace(qubits_left_list)\n",
        "    rho = tensor(rho_qubits_left, rho)\n",
        "\n",
        "  if len(qubits_right_list) != 0:\n",
        "    rho_qubits_right = rho_initial.ptrace(qubits_right_list)\n",
        "    rho = tensor(rho, rho_qubits_right)\n",
        "\n",
        "\n",
        "  return rho"
      ],
      "metadata": {
        "id": "LN3jYF7xDLOv"
      },
      "execution_count": 11,
      "outputs": []
    },
    {
      "cell_type": "code",
      "source": [
        "# testing generating entanglment twice- it works!\n",
        "num_qubits = 7\n",
        "rho = tensor([zero_rho for i in range (num_qubits)])\n",
        "\n",
        "rho = entanglement_generation_with_ptracing(rho, 0, 1, 1)\n",
        "rho = entanglement_generation_with_ptracing(rho, 5, 6, 1)\n",
        "\n",
        "for i in range(num_qubits):\n",
        "  print(f'Qubit{i}\\n', rho.ptrace(i).full(), '\\n')"
      ],
      "metadata": {
        "colab": {
          "base_uri": "https://localhost:8080/"
        },
        "id": "hQscjUUWFIJQ",
        "outputId": "745ce354-d238-4c9e-ec29-3d52be715690"
      },
      "execution_count": 17,
      "outputs": [
        {
          "output_type": "stream",
          "name": "stdout",
          "text": [
            "Qubit0\n",
            " [[0.5+0.j 0. +0.j]\n",
            " [0. +0.j 0.5+0.j]] \n",
            "\n",
            "Qubit1\n",
            " [[0.5+0.j 0. +0.j]\n",
            " [0. +0.j 0.5+0.j]] \n",
            "\n",
            "Qubit2\n",
            " [[1.+0.j 0.+0.j]\n",
            " [0.+0.j 0.+0.j]] \n",
            "\n",
            "Qubit3\n",
            " [[1.+0.j 0.+0.j]\n",
            " [0.+0.j 0.+0.j]] \n",
            "\n",
            "Qubit4\n",
            " [[1.+0.j 0.+0.j]\n",
            " [0.+0.j 0.+0.j]] \n",
            "\n",
            "Qubit5\n",
            " [[0.5+0.j 0. +0.j]\n",
            " [0. +0.j 0.5+0.j]] \n",
            "\n",
            "Qubit6\n",
            " [[0.5+0.j 0. +0.j]\n",
            " [0. +0.j 0.5+0.j]] \n",
            "\n"
          ]
        }
      ]
    },
    {
      "cell_type": "code",
      "source": [
        "# testing that ptracing out multiple qubits perserves entanglment- it does!\n",
        "num_qubits = 2\n",
        "rho = tensor(bell_state('phi+'))\n",
        "\n",
        "qubits_list = []\n",
        "print(rho.ptrace([0,1]).full())\n",
        "print(tensor(rho.ptrace(0), rho.ptrace(1)).full())\n",
        "print(rho.full())"
      ],
      "metadata": {
        "colab": {
          "base_uri": "https://localhost:8080/"
        },
        "id": "-wPbKGXT-CPg",
        "outputId": "1e83b7be-a59b-461d-afa2-f8d34c085b96"
      },
      "execution_count": 18,
      "outputs": [
        {
          "output_type": "stream",
          "name": "stdout",
          "text": [
            "[[0.5+0.j 0. +0.j 0. +0.j 0.5+0.j]\n",
            " [0. +0.j 0. +0.j 0. +0.j 0. +0.j]\n",
            " [0. +0.j 0. +0.j 0. +0.j 0. +0.j]\n",
            " [0.5+0.j 0. +0.j 0. +0.j 0.5+0.j]]\n",
            "[[0.25+0.j 0.  +0.j 0.  +0.j 0.  +0.j]\n",
            " [0.  +0.j 0.25+0.j 0.  +0.j 0.  +0.j]\n",
            " [0.  +0.j 0.  +0.j 0.25+0.j 0.  +0.j]\n",
            " [0.  +0.j 0.  +0.j 0.  +0.j 0.25+0.j]]\n",
            "[[0.5+0.j 0. +0.j 0. +0.j 0.5+0.j]\n",
            " [0. +0.j 0. +0.j 0. +0.j 0. +0.j]\n",
            " [0. +0.j 0. +0.j 0. +0.j 0. +0.j]\n",
            " [0.5+0.j 0. +0.j 0. +0.j 0.5+0.j]]\n"
          ]
        }
      ]
    },
    {
      "cell_type": "code",
      "source": [
        "# dephasing working\n",
        "def entanglement_generation_event(rho, q1, q2):\n",
        "  num_qubits_left = q1\n",
        "  num_qubits_right = (num_qubits - 1) - q2\n",
        "\n",
        "  # GENERATING ENTANGLEMENT\n",
        "  # entanglement op over the 2 qubits\n",
        "  entanglement_op = CNOT() * tensor(H(), I())\n",
        "\n",
        "  # generate identity gates to the left (if there are any) and adds to the entanglement op\n",
        "  entanglement_op = pad_op_to_left(entanglement_op, num_qubits_left)\n",
        "\n",
        "  # generate identity gates to the right (if there are any) and adds to the entanglement op\n",
        "  entanglement_op = pad_op_to_right(entanglement_op, num_qubits_right)\n",
        "\n",
        "  rho = entanglement_op * rho * entanglement_op.dag()\n",
        "\n",
        "\n",
        "  # ADDING MEMORY NOISE\n",
        "  T_dp = 0.00001 # dephasing time\n",
        "\n",
        "  # dephasing channel\n",
        "  def dephasing_channel(rho, t, left_padding, right_padding):\n",
        "    dp_prob = (1 - np.exp(-t / T_dp)) / 2\n",
        "    dp_op = np.sqrt(1 - dp_prob) * qeye(2) + np.sqrt(dp_prob) * sigmaz()\n",
        "    dp_op = pad_op_to_left(dp_op, left_padding)\n",
        "    dp_op = pad_op_to_right(dp_op, right_padding)\n",
        "    rho_t = dp_op * rho * dp_op.dag()\n",
        "    return rho_t\n",
        "\n",
        "  # dephasing channel for q1\n",
        "  rho = dephasing_channel(rho, 2 * d/c, num_qubits_left, num_qubits_right + 1)\n",
        "\n",
        "  # dephasing channel for q2\n",
        "  rho = dephasing_channel(rho, d/c, num_qubits_left + 1, num_qubits_right)\n",
        "\n",
        "  return rho\n"
      ],
      "metadata": {
        "id": "dfQ51eS4ovM2"
      },
      "execution_count": 27,
      "outputs": []
    },
    {
      "cell_type": "code",
      "source": [
        "# testing generating entanglement w dephasing + ptracing\n",
        "num_qubits = 4\n",
        "rho = tensor([zero_rho for _ in range (num_qubits)])\n",
        "\n",
        "rho = entanglement_generation_event(rho, 0, 1)\n",
        "\n",
        "for i in range(num_qubits):\n",
        "  print(f'Qubit{i}\\n', rho.ptrace(i).full(), '\\n')"
      ],
      "metadata": {
        "colab": {
          "base_uri": "https://localhost:8080/"
        },
        "id": "n3Vm4xO1QmBe",
        "outputId": "f171280c-ae4f-4f46-b48c-6b41576ee59d"
      },
      "execution_count": 28,
      "outputs": [
        {
          "output_type": "stream",
          "name": "stdout",
          "text": [
            "Qubit0\n",
            " [[0.70633614+0.j 0.        +0.j]\n",
            " [0.        +0.j 0.32836473+0.j]] \n",
            "\n",
            "Qubit1\n",
            " [[0.70633614+0.j 0.        +0.j]\n",
            " [0.        +0.j 0.32836473+0.j]] \n",
            "\n",
            "Qubit2\n",
            " [[1.03470086+0.j 0.        +0.j]\n",
            " [0.        +0.j 0.        +0.j]] \n",
            "\n",
            "Qubit3\n",
            " [[1.03470086+0.j 0.        +0.j]\n",
            " [0.        +0.j 0.        +0.j]] \n",
            "\n"
          ]
        }
      ]
    },
    {
      "cell_type": "code",
      "source": [
        "def entanglement_generation_with_ptracing_and_dephasing(rho_initial, q1, q2, F_initial):\n",
        "  \"\"\"\n",
        "    This function generates entanglement across 2 neighbouring repeater stations\n",
        "    It does this by first creating a bell pair across 2 qubits, padding this out\n",
        "    with identities so that it matches the size of the network, then it multiplies\n",
        "    this with the initial rho of the network.\n",
        "\n",
        "    This therefore assumes that the initial state of the qubits it generates\n",
        "    entanglement accross is 0. It will be incorrect otherwise.\n",
        "  \"\"\"\n",
        "  # SET UP\n",
        "  num_qubits_left = q1\n",
        "  num_qubits_right = (num_qubits - 1) - q2\n",
        "  qubits_left_list = [i for i in range(num_qubits_left)]\n",
        "  qubits_right_list = [i + num_qubits_left+2 for i in range(num_qubits_right)]\n",
        "\n",
        "\n",
        "  # GENERATING ENTANGLEMENT\n",
        "  # initial density matrix of bell pair, taking into account errors initial fidelity\n",
        "  rho = F_initial * bell_state('phi+') + ((1 - F_initial) / 3) * (bell_state('phi-') +\n",
        "                                                                       bell_state('psi+') +\n",
        "                                                                       bell_state('psi-'))\n",
        "  if len(qubits_left_list) != 0:\n",
        "    rho_qubits_left = rho_initial.ptrace(qubits_left_list)\n",
        "    rho = tensor(rho_qubits_left, rho)\n",
        "\n",
        "  if len(qubits_right_list) != 0:\n",
        "    rho_qubits_right = rho_initial.ptrace(qubits_right_list)\n",
        "    rho = tensor(rho, rho_qubits_right)\n",
        "\n",
        "\n",
        "  # ADDING MEMORY NOISE\n",
        "  T_dp = 0.001 # dephasing time\n",
        "\n",
        "  # dephasing channel\n",
        "  def dephasing_channel(rho, t, left_padding, right_padding):\n",
        "    dp_prob = (1 - np.exp(-t / T_dp)) / 2\n",
        "    dp_op = np.sqrt(1 - dp_prob) * qeye(2) + np.sqrt(dp_prob) * sigmaz()\n",
        "    dp_op = pad_op_to_left(dp_op, left_padding)\n",
        "    dp_op = pad_op_to_right(dp_op, right_padding)\n",
        "    rho_t = dp_op * rho * dp_op.dag()\n",
        "    return rho_t\n",
        "\n",
        "  # dephasing channel for q1\n",
        "  rho = dephasing_channel(rho, 2 * d/c, num_qubits_left, num_qubits_right + 1)\n",
        "\n",
        "  # dephasing channel for q2\n",
        "  rho = dephasing_channel(rho, d/c, num_qubits_left + 1, num_qubits_right)\n",
        "\n",
        "  return rho"
      ],
      "metadata": {
        "id": "foc-P74FO52b"
      },
      "execution_count": 31,
      "outputs": []
    },
    {
      "cell_type": "code",
      "source": [
        "# testing generating entanglment w dephasing + ptracing\n",
        "num_qubits = 4\n",
        "rho = tensor([zero_rho for i in range (num_qubits)])\n",
        "\n",
        "rho = entanglement_generation_with_ptracing_and_dephasing(rho, 0, 1, 1)\n",
        "\n",
        "for i in range(num_qubits):\n",
        "  print(f'Qubit{i}\\n', rho.ptrace(i).full(), '\\n')"
      ],
      "metadata": {
        "colab": {
          "base_uri": "https://localhost:8080/"
        },
        "id": "uBD-_FNqPRbY",
        "outputId": "faf1a405-eba7-45fe-833f-07c57056e370"
      },
      "execution_count": 35,
      "outputs": [
        {
          "output_type": "stream",
          "name": "stdout",
          "text": [
            "Qubit0\n",
            " [[0.51926089+0.j 0.        +0.j]\n",
            " [0.        +0.j 0.4810926 +0.j]] \n",
            "\n",
            "Qubit1\n",
            " [[0.51926089+0.j 0.        +0.j]\n",
            " [0.        +0.j 0.4810926 +0.j]] \n",
            "\n",
            "Qubit2\n",
            " [[1.00035349+0.j 0.        +0.j]\n",
            " [0.        +0.j 0.        +0.j]] \n",
            "\n",
            "Qubit3\n",
            " [[1.00035349+0.j 0.        +0.j]\n",
            " [0.        +0.j 0.        +0.j]] \n",
            "\n"
          ]
        }
      ]
    },
    {
      "cell_type": "code",
      "source": [
        "# testing function\n",
        "def test_entang_gen_w_dens_mat(qubit1, qubit2):\n",
        "  \"\"\"\n",
        "  Testing the entanglment generation function with statevectors\n",
        "  \"\"\"\n",
        "  psi0 = tensor([zero_ket] * num_qubits)\n",
        "  rho0 = psi0 * psi0.dag()\n",
        "\n",
        "  for i in range (num_qubits):\n",
        "    print(f'Repeater {i}\\n', (entanglement_generation_event(rho0, qubit1, qubit2) * rho0 * entanglement_generation_event(rho0, qubit1, qubit2).dag()).ptrace(i).full(), '\\n')\n",
        "test_entang_gen_w_dens_mat(0,1)\n"
      ],
      "metadata": {
        "colab": {
          "base_uri": "https://localhost:8080/"
        },
        "id": "9rP9pDJa0CYu",
        "outputId": "5b277b58-4de4-4350-f12d-cbb87d2a94d4"
      },
      "execution_count": 104,
      "outputs": [
        {
          "output_type": "stream",
          "name": "stdout",
          "text": [
            "Repeater 0\n",
            " [[0.31591148+0.j 0.        +0.j]\n",
            " [0.        +0.j 0.24813201+0.j]] \n",
            "\n",
            "Repeater 1\n",
            " [[0.31591148+0.j 0.        +0.j]\n",
            " [0.        +0.j 0.24813201+0.j]] \n",
            "\n",
            "Repeater 2\n",
            " [[0.56404349+0.j 0.        +0.j]\n",
            " [0.        +0.j 0.        +0.j]] \n",
            "\n",
            "Repeater 3\n",
            " [[0.56404349+0.j 0.        +0.j]\n",
            " [0.        +0.j 0.        +0.j]] \n",
            "\n",
            "Repeater 4\n",
            " [[0.56404349+0.j 0.        +0.j]\n",
            " [0.        +0.j 0.        +0.j]] \n",
            "\n"
          ]
        }
      ]
    },
    {
      "cell_type": "code",
      "source": [],
      "metadata": {
        "id": "51QDrWQF1E44"
      },
      "execution_count": null,
      "outputs": []
    }
  ]
}