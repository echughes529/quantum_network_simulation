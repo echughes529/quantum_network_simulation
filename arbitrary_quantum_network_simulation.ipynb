{
  "nbformat": 4,
  "nbformat_minor": 0,
  "metadata": {
    "colab": {
      "provenance": [],
      "authorship_tag": "ABX9TyMgDBjUEPCF19/BUF/7Y/b3"
    },
    "kernelspec": {
      "name": "python3",
      "display_name": "Python 3"
    },
    "language_info": {
      "name": "python"
    }
  },
  "cells": [
    {
      "cell_type": "code",
      "source": [
        "!pip install qutip"
      ],
      "metadata": {
        "id": "V2PSL5D_ErFs"
      },
      "execution_count": null,
      "outputs": []
    },
    {
      "cell_type": "code",
      "source": [
        "import numpy as np\n",
        "import matplotlib.pyplot as plt\n",
        "from qutip import *"
      ],
      "metadata": {
        "id": "HRVKsEv9Etd-"
      },
      "execution_count": 2,
      "outputs": []
    },
    {
      "cell_type": "markdown",
      "source": [
        "# Set Up + Useful Functions"
      ],
      "metadata": {
        "id": "mqrn9E9mFwan"
      }
    },
    {
      "cell_type": "code",
      "source": [
        "zero_ket = basis(2,0)\n",
        "zero_rho = zero_ket * zero_ket.dag()\n",
        "I = lambda: qeye(2)\n",
        "\n",
        "def initial_rho(num_qubits):\n",
        "  return tensor([zero_rho for i in range (num_qubits)])\n",
        "\n",
        "def bell_state(state):\n",
        "  \"\"\"\n",
        "    returns requested bell state\n",
        "  \"\"\"\n",
        "  if state == 'phi+':\n",
        "      phi_plus_ket = (tensor(basis(2, 0), basis(2, 0)) + tensor(basis(2, 1), basis(2, 1))).unit()\n",
        "      return phi_plus_ket * phi_plus_ket.dag()\n",
        "\n",
        "  elif state == 'phi-':\n",
        "      phi_minus_ket = (tensor(basis(2, 0), basis(2, 0)) - tensor(basis(2, 1), basis(2, 1))).unit()\n",
        "      return phi_minus_ket * phi_minus_ket.dag()\n",
        "\n",
        "  elif state == 'psi+':\n",
        "      psi_plus_ket = (tensor(basis(2, 0), basis(2, 1)) + tensor(basis(2, 1), basis(2, 0))).unit()\n",
        "      return psi_plus_ket * psi_plus_ket.dag()\n",
        "\n",
        "  elif state == 'psi-':\n",
        "      psi_minus_ket = (tensor(basis(2, 0), basis(2, 1)) - tensor(basis(2, 1), basis(2, 0))).unit()\n",
        "      return psi_minus_ket * psi_minus_ket.dag()\n",
        "\n",
        "  else:\n",
        "      raise ValueError(\"Invalid Bell state label\")\n",
        "\n",
        "\n",
        "def pad_op_to_left(op, num_identities):\n",
        "  if num_identities > 0:\n",
        "    left_op = I()\n",
        "    for i in range(num_identities - 1):\n",
        "      left_op = tensor(left_op, I())\n",
        "    return tensor(left_op, op)\n",
        "  else:\n",
        "    return op\n",
        "\n",
        "def pad_op_to_right(op, num_identities):\n",
        "  if num_identities > 0:\n",
        "    right_op = I()\n",
        "    for i in range(num_identities - 1):\n",
        "      right_op = tensor(right_op, I())\n",
        "    return tensor(op, right_op)\n",
        "  else:\n",
        "    return op\n"
      ],
      "metadata": {
        "id": "W29qfNdbEvbo"
      },
      "execution_count": 9,
      "outputs": []
    },
    {
      "cell_type": "code",
      "execution_count": 10,
      "metadata": {
        "id": "Nb8WtaR3Dfu3"
      },
      "outputs": [],
      "source": [
        "def entanglement_generation_with_ptracing_and_dephasing(rho_initial, q1, q2, F_initial):\n",
        "  \"\"\"\n",
        "    This function generates entanglement across 2 neighbouring repeater stations\n",
        "    It does this by first creating a bell pair across 2 qubits, padding this out\n",
        "    with identities so that it matches the size of the network, then it multiplies\n",
        "    this with the initial rho of the network.\n",
        "\n",
        "    This therefore assumes that the initial state of the qubits it generates\n",
        "    entanglement accross is 0. It will be incorrect otherwise.\n",
        "  \"\"\"\n",
        "  # SET UP\n",
        "  num_qubits_left = q1\n",
        "  num_qubits_right = (num_qubits - 1) - q2\n",
        "  qubits_left_list = [i for i in range(num_qubits_left)]\n",
        "  qubits_right_list = [i + num_qubits_left+2 for i in range(num_qubits_right)]\n",
        "\n",
        "\n",
        "  # GENERATING ENTANGLEMENT\n",
        "  # initial density matrix of bell pair, taking into account errors initial fidelity\n",
        "  rho = F_initial * bell_state('phi+') + ((1 - F_initial) / 3) * (bell_state('phi-') +\n",
        "                                                                       bell_state('psi+') +\n",
        "                                                                       bell_state('psi-'))\n",
        "  if len(qubits_left_list) != 0:\n",
        "    rho_qubits_left = rho_initial.ptrace(qubits_left_list)\n",
        "    rho = tensor(rho_qubits_left, rho)\n",
        "\n",
        "  if len(qubits_right_list) != 0:\n",
        "    rho_qubits_right = rho_initial.ptrace(qubits_right_list)\n",
        "    rho = tensor(rho, rho_qubits_right)\n",
        "\n",
        "\n",
        "  # ADDING MEMORY NOISE\n",
        "  T_dp = 0.001 # dephasing time\n",
        "\n",
        "  # dephasing channel\n",
        "  def dephasing_channel(rho, t, left_padding, right_padding):\n",
        "    dp_prob = (1 - np.exp(-t / T_dp)) / 2\n",
        "    dp_op = np.sqrt(1 - dp_prob) * qeye(2) + np.sqrt(dp_prob) * sigmaz()\n",
        "    dp_op = pad_op_to_left(dp_op, left_padding)\n",
        "    dp_op = pad_op_to_right(dp_op, right_padding)\n",
        "    rho_t = dp_op * rho * dp_op.dag()\n",
        "    return rho_t\n",
        "\n",
        "  # dephasing channel for q1\n",
        "  rho = dephasing_channel(rho, 2 * d/c, num_qubits_left, num_qubits_right + 1)\n",
        "\n",
        "  # dephasing channel for q2\n",
        "  rho = dephasing_channel(rho, d/c, num_qubits_left + 1, num_qubits_right)\n",
        "\n",
        "  return rho"
      ]
    },
    {
      "cell_type": "markdown",
      "source": [
        "# Running the Simulation"
      ],
      "metadata": {
        "id": "piSbWSEnGFCH"
      }
    },
    {
      "cell_type": "code",
      "source": [
        "# Printing partial traces\n",
        "num_qubits = 4\n",
        "total_L = 100\n",
        "d = total_L/(num_qubits - 1)\n",
        "c = 2e8 # speed of light in fiber optic\n",
        "rho = initial_rho(num_qubits)\n",
        "\n",
        "rho = entanglement_generation_with_ptracing_and_dephasing(rho_initial = rho, q1 = 0, q2 = 1, F_initial = 1)\n",
        "\n",
        "for i in range(num_qubits):\n",
        "  print(f'Qubit{i}\\n', rho.ptrace(i).full(), '\\n')"
      ],
      "metadata": {
        "colab": {
          "base_uri": "https://localhost:8080/"
        },
        "id": "KOZOmmI9GEfq",
        "outputId": "ccfe3d98-9871-4f52-90e3-ecfe29ddb5dc"
      },
      "execution_count": 11,
      "outputs": [
        {
          "output_type": "stream",
          "name": "stdout",
          "text": [
            "Qubit0\n",
            " [[0.52227139+0.j 0.        +0.j]\n",
            " [0.        +0.j 0.4781999 +0.j]] \n",
            "\n",
            "Qubit1\n",
            " [[0.52227139+0.j 0.        +0.j]\n",
            " [0.        +0.j 0.4781999 +0.j]] \n",
            "\n",
            "Qubit2\n",
            " [[1.00047129+0.j 0.        +0.j]\n",
            " [0.        +0.j 0.        +0.j]] \n",
            "\n",
            "Qubit3\n",
            " [[1.00047129+0.j 0.        +0.j]\n",
            " [0.        +0.j 0.        +0.j]] \n",
            "\n"
          ]
        }
      ]
    },
    {
      "cell_type": "code",
      "source": [],
      "metadata": {
        "id": "dbY9SV5HG7qL"
      },
      "execution_count": null,
      "outputs": []
    }
  ]
}