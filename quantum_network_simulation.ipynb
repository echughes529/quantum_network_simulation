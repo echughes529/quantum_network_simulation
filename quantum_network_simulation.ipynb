{
  "nbformat": 4,
  "nbformat_minor": 0,
  "metadata": {
    "colab": {
      "provenance": [],
      "authorship_tag": "ABX9TyPUcojQmgpcvySkkdVm9jct"
    },
    "kernelspec": {
      "name": "python3",
      "display_name": "Python 3"
    },
    "language_info": {
      "name": "python"
    }
  },
  "cells": [
    {
      "cell_type": "code",
      "source": [
        "!pip install qutip"
      ],
      "metadata": {
        "id": "V2PSL5D_ErFs",
        "colab": {
          "base_uri": "https://localhost:8080/"
        },
        "outputId": "9dc09903-04d3-4c5b-f2fb-0dfc04a170c9"
      },
      "execution_count": null,
      "outputs": [
        {
          "output_type": "stream",
          "name": "stdout",
          "text": [
            "Collecting qutip\n",
            "  Downloading qutip-5.0.3.post1-cp310-cp310-manylinux_2_17_x86_64.manylinux2014_x86_64.whl (28.0 MB)\n",
            "\u001b[2K     \u001b[90m━━━━━━━━━━━━━━━━━━━━━━━━━━━━━━━━━━━━━━━━\u001b[0m \u001b[32m28.0/28.0 MB\u001b[0m \u001b[31m15.9 MB/s\u001b[0m eta \u001b[36m0:00:00\u001b[0m\n",
            "\u001b[?25hRequirement already satisfied: numpy>=1.22 in /usr/local/lib/python3.10/dist-packages (from qutip) (1.25.2)\n",
            "Requirement already satisfied: scipy>=1.9 in /usr/local/lib/python3.10/dist-packages (from qutip) (1.11.4)\n",
            "Requirement already satisfied: packaging in /usr/local/lib/python3.10/dist-packages (from qutip) (24.1)\n",
            "Installing collected packages: qutip\n",
            "Successfully installed qutip-5.0.3.post1\n"
          ]
        }
      ]
    },
    {
      "cell_type": "code",
      "source": [
        "import numpy as np\n",
        "import matplotlib.pyplot as plt\n",
        "from qutip import *\n",
        "import builtins\n",
        "from typing import List"
      ],
      "metadata": {
        "id": "HRVKsEv9Etd-"
      },
      "execution_count": null,
      "outputs": []
    },
    {
      "cell_type": "markdown",
      "source": [
        "# Set Up + Useful Functions"
      ],
      "metadata": {
        "id": "mqrn9E9mFwan"
      }
    },
    {
      "cell_type": "code",
      "source": [
        "zero_ket = basis(2,0)\n",
        "zero_rho = zero_ket * zero_ket.dag()\n",
        "one_rho = basis(2,1) * basis(2,1).dag()\n",
        "I = lambda: qeye(2)\n",
        "\n",
        "\n",
        "def initial_rho(num_qubits):\n",
        "  return tensor([zero_rho for i in range (num_qubits)])\n",
        "\n",
        "\n",
        "def bell_state(state):\n",
        "  \"\"\"\n",
        "  Returns the requested Bell state as a density matrix.\n",
        "\n",
        "  Parameters:\n",
        "  state (str): The label of the Bell state to return.\n",
        "                Must be one of 'phi+', 'phi-', 'psi+', or 'psi-'.\n",
        "\n",
        "  Returns:\n",
        "  Qobj: The density matrix of the requested Bell state.\n",
        "  \"\"\"\n",
        "  if state == 'phi+':\n",
        "      phi_plus_ket = (tensor(basis(2, 0), basis(2, 0)) + tensor(basis(2, 1), basis(2, 1))).unit()\n",
        "      return phi_plus_ket * phi_plus_ket.dag()\n",
        "\n",
        "  elif state == 'phi-':\n",
        "      phi_minus_ket = (tensor(basis(2, 0), basis(2, 0)) - tensor(basis(2, 1), basis(2, 1))).unit()\n",
        "      return phi_minus_ket * phi_minus_ket.dag()\n",
        "\n",
        "  elif state == 'psi+':\n",
        "      psi_plus_ket = (tensor(basis(2, 0), basis(2, 1)) + tensor(basis(2, 1), basis(2, 0))).unit()\n",
        "      return psi_plus_ket * psi_plus_ket.dag()\n",
        "\n",
        "  elif state == 'psi-':\n",
        "      psi_minus_ket = (tensor(basis(2, 0), basis(2, 1)) - tensor(basis(2, 1), basis(2, 0))).unit()\n",
        "      return psi_minus_ket * psi_minus_ket.dag()\n",
        "\n",
        "  else:\n",
        "      raise ValueError(\"Invalid Bell state label\")\n",
        "\n",
        "\n",
        "def pad_op(op, left_padding, right_padding):\n",
        "    \"\"\"\n",
        "    Pads the given operator with identity operators on the left and right.\n",
        "\n",
        "    Parameters:\n",
        "    op (Qobj): The operator to be padded.\n",
        "    left_padding (int): The number of identity operators to pad on the left.\n",
        "    right_padding (int): The number of identity operators to pad on the right.\n",
        "\n",
        "    Returns:\n",
        "    Qobj: The padded operator.\n",
        "    \"\"\"\n",
        "\n",
        "    if left_padding > 0:\n",
        "        left_op = tensor([I()] * left_padding)\n",
        "        op = tensor(left_op, op)\n",
        "\n",
        "    if right_padding > 0:\n",
        "        right_op = tensor([I()] * right_padding)\n",
        "        op = tensor(op, right_op)\n",
        "\n",
        "    return op\n",
        "\n",
        "\n",
        "\n",
        "\n",
        "\n",
        "\n",
        "\n",
        "def state_inserter(rho_initial, target_qubits, state):\n",
        "  \"\"\"\n",
        "    Takes a density matrix of a network, inserts the state 'state' into the slots of the target_qubits.\n",
        "    Assumes that target qubits are beside eachother and that no entanglement exists between\n",
        "    qubits at either side of the target_qubits.\n",
        "\n",
        "    Returns full density matrix of updated network\n",
        "  \"\"\"\n",
        "  if isinstance(target_qubits, int):\n",
        "    num_qubits_left = target_qubits\n",
        "    num_qubits_right = num_qubits - target_qubits - 1\n",
        "\n",
        "    qubits_left_list = [i for i in range(num_qubits_left)]\n",
        "    qubits_right_list = [i + num_qubits_left + 1 for i in range(num_qubits_right)]\n",
        "\n",
        "  elif isinstance(target_qubits, builtins.list):\n",
        "    num_qubits_left = target_qubits[0]\n",
        "    num_qubits_right = num_qubits - target_qubits[-1] - 1\n",
        "\n",
        "    qubits_left_list = [i for i in range(num_qubits_left)]\n",
        "    qubits_right_list = [i + num_qubits_left + len(target_qubits) for i in range(num_qubits_right)]\n",
        "\n",
        "  else:\n",
        "    raise TypeError('Invalid data type for target_qubit, must be int or list')\n",
        "\n",
        "  rho = state\n",
        "  if len(qubits_left_list) != 0:\n",
        "    rho_qubits_left = rho_initial.ptrace(qubits_left_list)\n",
        "    rho = tensor(rho_qubits_left, rho)\n",
        "\n",
        "  if len(qubits_right_list) != 0:\n",
        "    rho_qubits_right = rho_initial.ptrace(qubits_right_list)\n",
        "    rho = tensor(rho, rho_qubits_right)\n",
        "\n",
        "  return rho\n",
        "\n",
        "\n",
        "def time_for_link(eta_eff, T_p):\n",
        "  \"\"\"\n",
        "  Gets the time taken to generate entanglement between 2 adjacent nodes\n",
        "  Does this by generating random samples from a geometric distribution with\n",
        "  success probability eta_eff and then multiplying by time taken for one trial.\n",
        "\n",
        "  Parameters:\n",
        "  eta_eff (float): Success probability for the geometric distribution.\n",
        "  num_samples (int): Number of random samples to generate.\n",
        "\n",
        "  Returns:\n",
        "  np.ndarray: Array of random samples from the geometric distribution.\n",
        "  \"\"\"\n",
        "  no_of_trials = np.random.geometric(eta_eff)\n",
        "  time_per_trial = T_p + 2 * d / c\n",
        "  time_per_link = no_of_trials * time_per_trial\n",
        "  return time_per_link\n",
        "\n",
        "\n",
        "def dephasing_channel(rho, t, left_padding, right_padding):\n",
        "  \"\"\"\n",
        "  Applies the dephasing channel to a given density matrix `rho`.\n",
        "\n",
        "  Parameters:\n",
        "  rho (Qobj): The initial density matrix of the quantum system.\n",
        "  t (float): The time over which the dephasing occurs.\n",
        "  left_padding (int): The number of identity operators to pad on the left.\n",
        "  right_padding (int): The number of identity operators to pad on the right.\n",
        "  T_dp (float): The dephasing time constant.\n",
        "\n",
        "  Returns:\n",
        "  Qobj: The density matrix of the quantum system after the dephasing channel has been applied.\n",
        "  \"\"\"\n",
        "  dp_prob = (1 - np.exp(-t / T_dp)) / 2\n",
        "  Z_op = np.sqrt(dp_prob) * pad_op(op=sigmaz(), left_padding=left_padding, right_padding=right_padding)\n",
        "  I_op = np.sqrt(1 - dp_prob) * pad_op(op=I(), left_padding=left_padding, right_padding=right_padding)\n",
        "  rho_t = I_op * rho * I_op.dag() + Z_op * rho * Z_op.dag()\n",
        "  return rho_t\n",
        "\n",
        "\n",
        "\n",
        "def dark_counts(rho_initial, target, P_link):\n",
        "  num_qubits_left = target\n",
        "  num_qubits_right = (num_qubits -1) - target\n",
        "  qubits_left_list = [i for i in range(num_qubits_left)]\n",
        "  qubits_right_list = [i + num_qubits_left+2 for i in range(num_qubits_right)]\n",
        "\n",
        "  # channel efficiency\n",
        "  n_ch = lambda L: np.exp(-L/L_att)\n",
        "\n",
        "  # total probability that a pair is established\n",
        "  n = P_link * n_ch(d)\n",
        "\n",
        "  # the chance for a detector to click (including dark counts)\n",
        "  n_eff = 1 - (1 - n) * ((1 - p_d) ** 2)\n",
        "\n",
        "  # given a click occurs, the probability it is from a real event\n",
        "  alpha = lambda n: (n * (1 - p_d)) / n_eff\n",
        "  k = 1 - alpha(n)\n",
        "\n",
        "  # defining Krauss operators\n",
        "  K0 = np.sqrt(1 - 3 * k / 4) * pad_op(op=I(), left_padding=num_qubits_left, right_padding=num_qubits_right)\n",
        "  K1 = np.sqrt(k / 4) * pad_op(op=sigmax(), left_padding=num_qubits_left, right_padding=num_qubits_right)\n",
        "  K2 = np.sqrt(k / 4) * pad_op(op=sigmay(), left_padding=num_qubits_left, right_padding=num_qubits_right)\n",
        "  K3 = np.sqrt(k / 4) * pad_op(op=sigmaz(), left_padding=num_qubits_left, right_padding=num_qubits_right)\n",
        "  error_ops = [K1, K2, K3]\n",
        "\n",
        "  # applying Krauss ops\n",
        "  rho = K0 * rho_initial * K0.dag()\n",
        "  for op in error_ops:\n",
        "    rho += op * rho_initial * op.dag()\n",
        "  return rho\n",
        "\n",
        "\n",
        "\n",
        "def initial_F_rho(rho_initial, target_qubits: List[int], F_initial: float):\n",
        "  rho_bell = F_initial * bell_state('phi+') + ((1 - F_initial) / 3) * (bell_state('phi-') +\n",
        "                                                                    bell_state('psi+') +\n",
        "                                                                    bell_state('psi-'))\n",
        "  rho = state_inserter(rho_initial=rho_initial, target_qubits=target_qubits, state=rho_bell)\n",
        "  return rho\n",
        "\n",
        "def create_qubit_time_lists(n):\n",
        "  \"\"\"\n",
        "  Creates a dictionary with keys for qubit time lists.\n",
        "\n",
        "  Parameters:\n",
        "  n (int): The number of qubits.\n",
        "\n",
        "  Returns:\n",
        "  dict: A dictionary where each key is a string in the format 'q{i}_time' (where {i} is the qubit index)\n",
        "        and the value is initialized to 0.\n",
        "\n",
        "  Example:\n",
        "  >>> create_qubit_time_lists(3)\n",
        "  {'q0_time': 0, 'q1_time': 0, 'q2_time': 0}\n",
        "  \"\"\"\n",
        "  lists_dict = {}\n",
        "  for i in range(n):\n",
        "      lists_dict[f'q{i}_time'] = 0\n",
        "  return lists_dict"
      ],
      "metadata": {
        "id": "W29qfNdbEvbo"
      },
      "execution_count": null,
      "outputs": []
    },
    {
      "cell_type": "markdown",
      "source": [
        "# Entanglement Generation and Swapping"
      ],
      "metadata": {
        "id": "O4tMBQcrnaWI"
      }
    },
    {
      "cell_type": "code",
      "source": [
        "def entanglement_generation(rho_initial, target_qubits, F_initial, n, P_link, T_p, eta_eff):\n",
        "  \"\"\"\n",
        "  Generates entanglement across 2 neighboring repeater stations q1 and q2 by\n",
        "  creating a phi+ Bell state density matrix with fidelity F_initial and inserting\n",
        "  it into rho_initial. This function assumes no pre-existing entanglement across\n",
        "  the selected qubits.\n",
        "\n",
        "  Parameters:\n",
        "  rho_initial (Qobj): Initial state of the quantum system.\n",
        "  target_qubits (list of int): Indices of the target qubits to be entangled.\n",
        "  F_initial (float): Initial fidelity of the phi+ Bell state.\n",
        "  num_qubits (int): Total number of qubits in the system.\n",
        "  n (int): Number of trials or attempts.\n",
        "  P_link (float): Probability of successful entanglement.\n",
        "  T_p (float): Time period for the process.\n",
        "  eta_eff (float): Efficiency factor.\n",
        "\n",
        "  Returns:\n",
        "  Qobj: The density matrix of the system after entanglement generation.\n",
        "  \"\"\"\n",
        "  # SET UP\n",
        "  # getting the number of qubits either side of the pair and making a list of them\n",
        "  q0, q1 = target_qubits[0], target_qubits[1]\n",
        "  num_qubits_left = q0\n",
        "  num_qubits_right = (num_qubits - 1) - q1\n",
        "  qubits_left_list = [i for i in range(num_qubits_left)]\n",
        "  qubits_right_list = [i + num_qubits_left+2 for i in range(num_qubits_right)]\n",
        "\n",
        "\n",
        "  # GENERATING PHI+ BELL PAIR WITH FIDELITY F_INITIAL\n",
        "  rho = initial_F_rho(rho_initial, [q0, q1], F_initial)\n",
        "\n",
        "  # ADDING MEMORY NOISE\n",
        "  # dephasing channel for q0 (stays in memory for twice as long)\n",
        "  rho = dephasing_channel(rho=rho, t = 2 * d/c, left_padding = num_qubits_left, right_padding = num_qubits_right + 1)\n",
        "\n",
        "  # dephasing channel for q1\n",
        "  rho = dephasing_channel(rho=rho, t = d/c, left_padding = num_qubits_left + 1, right_padding = num_qubits_right)\n",
        "\n",
        "  # ADDING DARK COUNTS NOISE\n",
        "  rho = dark_counts(rho_initial=rho, target=q1, P_link=P_link)\n",
        "  #rho = dark_counts_entang_gen(rho_initial=rho,q0=q0, q1=q1, P_link=P_link)\n",
        "  #TIMING\n",
        "  global current_time\n",
        "  time_entang = time_for_link(eta_eff, T_p)\n",
        "  #print('entang time', current_time)\n",
        "\n",
        "  current_time += time_entang\n",
        "  globals()[f'q{q0}_time'] = current_time\n",
        "  globals()[f'q{q1}_time'] = current_time\n",
        "\n",
        "  return rho"
      ],
      "metadata": {
        "id": "UtxWBjOk22Fx"
      },
      "execution_count": 70,
      "outputs": []
    },
    {
      "cell_type": "code",
      "source": [
        "def entanglement_swapping(rho_initial, q0q1, q2q3, lambda_BSM):\n",
        "  \"\"\"\n",
        "  rho_initial = denisty matrix\n",
        "  q0q1 = list of length 2\n",
        "  q2q3 = list of length 2\n",
        "  lambda_BSM = float [0,1], bell state measurement ideality\n",
        "  \"\"\"\n",
        "  # SET UP\n",
        "  q0, q1 = q0q1[0], q0q1[1]\n",
        "  q2, q3 = q2q3[0], q2q3[1]\n",
        "  num_qubits_left = q0\n",
        "  num_qubits_right = (num_qubits - 1) - q3\n",
        "  qubits_left_list = [i for i in range(num_qubits_left)]\n",
        "  qubits_right_list = [i + num_qubits_left+2 for i in range(num_qubits_right)]\n",
        "  seperation = (q3 - q0) - 1\n",
        "  bell_measure_op = tensor(I(), bell_state('phi+'), I())\n",
        "  qubits = [q0, q1, q2, q3]\n",
        "\n",
        "  # getting the initial state of the 4 qubits and creating 4 qubit density matrix rho\n",
        "  rho_q0q1 = rho_initial.ptrace(q0q1)\n",
        "  rho_q2q3 = rho_initial.ptrace(q2q3)\n",
        "  rho = tensor(rho_q0q1, rho_q2q3)\n",
        "\n",
        "\n",
        "  # DEPHASING SINCE LAST OPERATION\n",
        "  # getting  the current time and the times that each of the qubits were last updated\n",
        "  global current_time\n",
        "  q0_time = globals()[f'q{q0}_time']\n",
        "  q1_time = globals()[f'q{q1}_time']\n",
        "  q2_time = globals()[f'q{q2}_time']\n",
        "  q3_time = globals()[f'q{q3}_time']\n",
        "\n",
        "  # applying dephasing memory error for the time that has passed since their state was updated\n",
        "  for i, qubit in enumerate(qubits):\n",
        "    rho = dephasing_channel(rho=rho, t = (current_time - globals()[f'q{qubit}_time']), left_padding = i, right_padding = (3-i))\n",
        "\n",
        "\n",
        "  # PERFORMING BELL MEASUREMENT\n",
        "  # project 1, 2 into phi+ bell state and take the ptrace of qubits 0, 3\n",
        "  # rho is now a 2 qubit density matrix\n",
        "  rho = (bell_measure_op * rho * bell_measure_op.dag()).ptrace([0,3]).unit()\n",
        "\n",
        "\n",
        "  # ADDING BSM ERROR\n",
        "  rho = lambda_BSM * rho + (1 - lambda_BSM) / 4 * tensor(I(), I())\n",
        "\n",
        "\n",
        "  # PLACING QUBITS 0,3 BACK INTO RHO OF WHOLE SYSTEM\n",
        "  # adding qubits to left of state\n",
        "  if len(qubits_left_list) != 0:\n",
        "    rho_qubits_left = rho_initial.ptrace(qubits_left_list)\n",
        "    rho = tensor(rho_qubits_left, rho)\n",
        "\n",
        "  # adding the qubits between the newly entangled qubits q0, q3 to the right\n",
        "  rho_middle = tensor([zero_rho for i in range(seperation)])\n",
        "  rho = tensor(rho, rho_middle)\n",
        "\n",
        "  # swapping q3 to the end of the tensor product so that now rho_middle is indeed in the middle\n",
        "  perm_order = [i for i in range(q3+1)]\n",
        "  q3_index = perm_order.pop(num_qubits_left+1) # remove the index where q3 is now from list (where q1 normally is)\n",
        "  perm_order.append(q3_index) # append q3 index to end of list, moving q3 to the end\n",
        "  rho = rho.permute(perm_order)\n",
        "\n",
        "  # adding qubits to the right of state\n",
        "  if len(qubits_right_list) != 0:\n",
        "    rho_qubits_right = rho_initial.ptrace(qubits_right_list)\n",
        "    rho = tensor(rho, rho_qubits_right)\n",
        "\n",
        "\n",
        "  # UPDATING TIMING\n",
        "  # assuming instantaneous BSM\n",
        "  globals()[f'q{q0}_time'] = current_time\n",
        "  globals()[f'q{q1}_time'] = current_time\n",
        "  globals()[f'q{q2}_time'] = current_time\n",
        "  globals()[f'q{q3}_time'] = current_time\n",
        "  #print(current_time)\n",
        "  return rho"
      ],
      "metadata": {
        "id": "dbY9SV5HG7qL"
      },
      "execution_count": 71,
      "outputs": []
    },
    {
      "cell_type": "markdown",
      "source": [
        "# Defining Global Parameters"
      ],
      "metadata": {
        "id": "op6iE_-gnf07"
      }
    },
    {
      "cell_type": "code",
      "source": [
        "# DEFINING GLOBAL PARAMETERS\n",
        "# Geometric Set Up\n",
        "num_qubits = 8\n",
        "total_L = 100e3\n",
        "d = total_L/(num_qubits - 1)\n",
        "\n",
        "# Optical Fiber Properties\n",
        "L_att = 22e3       # attenuation length of optical fiber\n",
        "c = 2e8            # speed of light in fiber optic\n",
        "\n",
        "# Global Error Parameters\n",
        "T_dp = 100         # dephasing time constant (memory error)\n",
        "p_d = 0            # probability a dark count will occur in a detection window\n",
        "\n",
        "# DEFINING ENTANGLEMENT GENERATION PARAMETERS\n",
        "entang_gen_args = {\n",
        "    'n' : 1,             # probability a link is established between 2 neighbouring repeater stations\n",
        "    'P_link' : 1,        # probability a link is established without considering distance based losses\n",
        "    'T_p' : 0,           # time to prepare an entangled pair\n",
        "    'eta_eff' : 1        # effective channel efficiency\n",
        "}"
      ],
      "metadata": {
        "id": "KOZOmmI9GEfq"
      },
      "execution_count": 76,
      "outputs": []
    },
    {
      "cell_type": "markdown",
      "source": [
        "# Example Usage"
      ],
      "metadata": {
        "id": "86txw54Vniad"
      }
    },
    {
      "cell_type": "code",
      "source": [
        "# simulating an 8 node network, entangling the 2 end nodes\n",
        "current_time = 0\n",
        "qubit_times = create_qubit_time_lists(num_qubits)\n",
        "\n",
        "rho = initial_rho(num_qubits)\n",
        "rho = entanglement_generation(rho_initial=rho, target_qubits=[0,1], F_initial = 1, **entang_gen_args)\n",
        "rho = entanglement_generation(rho_initial = rho, target_qubits=[2,3], F_initial = 1, **entang_gen_args)\n",
        "rho = entanglement_generation(rho_initial = rho, target_qubits=[4,5], F_initial = 1, **entang_gen_args)\n",
        "rho = entanglement_generation(rho_initial = rho, target_qubits=[6,7], F_initial = 1, **entang_gen_args)\n",
        "rho = entanglement_swapping(rho_initial = rho, q0q1 = [0,1], q2q3=[2,3], lambda_BSM= 1)\n",
        "rho = entanglement_swapping(rho_initial = rho, q0q1 = [4,5], q2q3=[6,7], lambda_BSM= 1)\n",
        "rho = entanglement_swapping(rho_initial = rho, q0q1 = [0,3], q2q3=[4,7], lambda_BSM= 1)\n",
        "\n",
        "# PRINTING OUT PARTIAL TRACE OF ALL QUBITS\n",
        "print('PARTIAL TRACE OF ALL QUBITS')\n",
        "for i in range(num_qubits):\n",
        "  print(f'Qubit{i}\\n', np.round(rho.ptrace(i).full(),3), '\\n')\n",
        "\n",
        "# PRINTING OUT 2 QUBIT DENSITY MATRIX OF ENTANGLED STATE\n",
        "entangled_state = rho.ptrace([0,num_qubits-1])\n",
        "print('STATE OF ENTANGLED END NODES \\n',np.round(entangled_state.full(), 3))\n",
        "\n",
        "# TESTING FIDELITY\n",
        "#phi_plus_ket = (tensor(basis(2, 0), basis(2, 0)) + tensor(basis(2, 1), basis(2, 1))).unit()\n",
        "#print('\\nFidelity:', np.round(phi_plus_ket.dag() * state_03 * phi_plus_ket, 3))\n"
      ],
      "metadata": {
        "colab": {
          "base_uri": "https://localhost:8080/"
        },
        "id": "yutT_TixTTHM",
        "outputId": "004318f9-4315-47d8-d945-eeca5ceed151"
      },
      "execution_count": 77,
      "outputs": [
        {
          "output_type": "stream",
          "name": "stdout",
          "text": [
            "PARTIAL TRACE OF ALL QUBITS\n",
            "Qubit0\n",
            " [[0.5+0.j 0. +0.j]\n",
            " [0. +0.j 0.5+0.j]] \n",
            "\n",
            "Qubit1\n",
            " [[1.+0.j 0.+0.j]\n",
            " [0.+0.j 0.+0.j]] \n",
            "\n",
            "Qubit2\n",
            " [[1.+0.j 0.+0.j]\n",
            " [0.+0.j 0.+0.j]] \n",
            "\n",
            "Qubit3\n",
            " [[1.+0.j 0.+0.j]\n",
            " [0.+0.j 0.+0.j]] \n",
            "\n",
            "Qubit4\n",
            " [[1.+0.j 0.+0.j]\n",
            " [0.+0.j 0.+0.j]] \n",
            "\n",
            "Qubit5\n",
            " [[1.+0.j 0.+0.j]\n",
            " [0.+0.j 0.+0.j]] \n",
            "\n",
            "Qubit6\n",
            " [[1.+0.j 0.+0.j]\n",
            " [0.+0.j 0.+0.j]] \n",
            "\n",
            "Qubit7\n",
            " [[0.5+0.j 0. +0.j]\n",
            " [0. +0.j 0.5+0.j]] \n",
            "\n",
            "STATE OF ENTANGLED END NODES \n",
            " [[0.5+0.j 0. +0.j 0. +0.j 0.5+0.j]\n",
            " [0. +0.j 0. +0.j 0. +0.j 0. +0.j]\n",
            " [0. +0.j 0. +0.j 0. +0.j 0. +0.j]\n",
            " [0.5+0.j 0. +0.j 0. +0.j 0.5+0.j]]\n"
          ]
        }
      ]
    },
    {
      "cell_type": "markdown",
      "source": [
        "# Unit Tests"
      ],
      "metadata": {
        "id": "fszMMmVkPS7j"
      }
    },
    {
      "cell_type": "code",
      "source": [
        "import unittest\n",
        "from qutip import qeye, tensor\n",
        "\n",
        "# Define the I function as per qutip\n",
        "I = lambda: qeye(2)\n",
        "\n",
        "# The function to be tested\n",
        "def pad_op(op, left_padding, right_padding):\n",
        "    if left_padding > 0:\n",
        "        left_op = I()\n",
        "        for i in range(left_padding - 1):\n",
        "            left_op = tensor(left_op, I())\n",
        "        op = tensor(left_op, op)\n",
        "\n",
        "    if right_padding > 0:\n",
        "        right_op = I()\n",
        "        for i in range(right_padding - 1):\n",
        "            right_op = tensor(right_op, I())\n",
        "        return tensor(op, right_op)\n",
        "    else:\n",
        "        return op\n",
        "\n",
        "class TestPadOp(unittest.TestCase):\n",
        "    def test_no_padding(self):\n",
        "        op = qeye(2)  # Identity operator of size 2\n",
        "        result = pad_op(op, 0, 0)\n",
        "        self.assertTrue(result == op)\n",
        "\n",
        "    def test_left_padding_only(self):\n",
        "        op = qeye(2)  # Identity operator of size 2\n",
        "        result = pad_op(op, 2, 0)\n",
        "        expected = tensor(I(), I(), op)\n",
        "        self.assertTrue(result == expected)\n",
        "\n",
        "    def test_right_padding_only(self):\n",
        "        op = qeye(2)  # Identity operator of size 2\n",
        "        result = pad_op(op, 0, 2)\n",
        "        expected = tensor(op, I(), I())\n",
        "        self.assertTrue(result == expected)\n",
        "\n",
        "    def test_both_padding(self):\n",
        "        op = qeye(2)  # Identity operator of size 2\n",
        "        result = pad_op(op, 1, 1)\n",
        "        expected = tensor(I(), op, I())\n",
        "        self.assertTrue(result == expected)\n",
        "\n",
        "if __name__ == '__main__':\n",
        "    unittest.main(argv=['first-arg-is-ignored'], exit=False)\n"
      ],
      "metadata": {
        "colab": {
          "base_uri": "https://localhost:8080/"
        },
        "id": "vcUcuasuH7Me",
        "outputId": "e4a59ae3-9ede-4e90-e45b-d2a3467bb709"
      },
      "execution_count": 74,
      "outputs": [
        {
          "output_type": "stream",
          "name": "stderr",
          "text": [
            "....\n",
            "----------------------------------------------------------------------\n",
            "Ran 4 tests in 0.011s\n",
            "\n",
            "OK\n"
          ]
        }
      ]
    },
    {
      "cell_type": "markdown",
      "source": [
        "# Testing global variables"
      ],
      "metadata": {
        "id": "ZfDhlAXIcGii"
      }
    },
    {
      "cell_type": "code",
      "source": [
        "def create_global_variables(n):\n",
        "    for i in range(n):\n",
        "        globals()[f'q{i}_time'] = 0\n",
        "\n",
        "# Define a function to update global variables\n",
        "def update_global_variables(n):\n",
        "    for i in range(n):\n",
        "        globals()[f'q{i}_time'] = (i * 10)"
      ],
      "metadata": {
        "id": "-yBX8zfddScg"
      },
      "execution_count": null,
      "outputs": []
    },
    {
      "cell_type": "code",
      "source": [
        "create_global_variables(5)\n",
        "update_global_variables(5)\n",
        "for i in range(5):\n",
        "    print(globals()[f'q{i}_time'])"
      ],
      "metadata": {
        "colab": {
          "base_uri": "https://localhost:8080/"
        },
        "id": "ugfrMqZPi9RA",
        "outputId": "037356ca-485a-4208-eaaf-0cb7c9fac1a7"
      },
      "execution_count": null,
      "outputs": [
        {
          "output_type": "stream",
          "name": "stdout",
          "text": [
            "0\n",
            "10\n",
            "20\n",
            "30\n",
            "40\n"
          ]
        }
      ]
    },
    {
      "cell_type": "code",
      "source": [
        "# Define a function to change q{n}_time\n",
        "def change_q_time(n, new_value):\n",
        "    globals()[f'q{n}_time'] = new_value\n",
        "\n",
        "# Example usage:\n",
        "create_global_variables(5)\n",
        "update_global_variables(5)\n",
        "\n",
        "print(\"Before change:\")\n",
        "for i in range(5):\n",
        "    print(globals()[f'q{i}_time'])  # This should print the values 0, 10, 20, 30, 40\n",
        "\n",
        "change_q_time(1, 100)\n",
        "\n",
        "print(\"After change:\")\n",
        "for i in range(5):\n",
        "    print(globals()[f'q{i}_time'])  # This should print the values 0, 100, 20, 30, 40\n"
      ],
      "metadata": {
        "colab": {
          "base_uri": "https://localhost:8080/"
        },
        "id": "1dLBx9d-jEl4",
        "outputId": "b94d0617-19f1-4099-dfe0-21efda792067"
      },
      "execution_count": null,
      "outputs": [
        {
          "output_type": "stream",
          "name": "stdout",
          "text": [
            "Before change:\n",
            "0\n",
            "10\n",
            "20\n",
            "30\n",
            "40\n",
            "After change:\n",
            "0\n",
            "100\n",
            "20\n",
            "30\n",
            "40\n"
          ]
        }
      ]
    }
  ]
}