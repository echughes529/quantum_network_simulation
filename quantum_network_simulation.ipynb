{
  "nbformat": 4,
  "nbformat_minor": 0,
  "metadata": {
    "colab": {
      "provenance": [],
      "authorship_tag": "ABX9TyNnn5TRZn/9ygwDsEFiaj7E"
    },
    "kernelspec": {
      "name": "python3",
      "display_name": "Python 3"
    },
    "language_info": {
      "name": "python"
    }
  },
  "cells": [
    {
      "cell_type": "code",
      "source": [
        "!pip install qutip"
      ],
      "metadata": {
        "id": "V2PSL5D_ErFs",
        "colab": {
          "base_uri": "https://localhost:8080/"
        },
        "outputId": "40595b8e-d806-4b29-bbe4-5766f63bbf6d"
      },
      "execution_count": 1,
      "outputs": [
        {
          "output_type": "stream",
          "name": "stdout",
          "text": [
            "Collecting qutip\n",
            "  Downloading qutip-5.0.3.post1-cp310-cp310-manylinux_2_17_x86_64.manylinux2014_x86_64.whl (28.0 MB)\n",
            "\u001b[2K     \u001b[90m━━━━━━━━━━━━━━━━━━━━━━━━━━━━━━━━━━━━━━━━\u001b[0m \u001b[32m28.0/28.0 MB\u001b[0m \u001b[31m13.1 MB/s\u001b[0m eta \u001b[36m0:00:00\u001b[0m\n",
            "\u001b[?25hRequirement already satisfied: numpy>=1.22 in /usr/local/lib/python3.10/dist-packages (from qutip) (1.25.2)\n",
            "Requirement already satisfied: scipy>=1.9 in /usr/local/lib/python3.10/dist-packages (from qutip) (1.11.4)\n",
            "Requirement already satisfied: packaging in /usr/local/lib/python3.10/dist-packages (from qutip) (24.1)\n",
            "Installing collected packages: qutip\n",
            "Successfully installed qutip-5.0.3.post1\n"
          ]
        }
      ]
    },
    {
      "cell_type": "code",
      "source": [
        "import numpy as np\n",
        "import matplotlib.pyplot as plt\n",
        "from qutip import *\n",
        "import builtins\n",
        "from typing import List"
      ],
      "metadata": {
        "id": "HRVKsEv9Etd-"
      },
      "execution_count": 2,
      "outputs": []
    },
    {
      "cell_type": "markdown",
      "source": [
        "# Set Up + Useful Functions"
      ],
      "metadata": {
        "id": "mqrn9E9mFwan"
      }
    },
    {
      "cell_type": "code",
      "source": [
        "zero_ket = basis(2,0)\n",
        "zero_rho = zero_ket * zero_ket.dag()\n",
        "one_rho = basis(2,1) * basis(2,1).dag()\n",
        "I = lambda: qeye(2)\n",
        "\n",
        "\n",
        "def initial_rho(num_qubits):\n",
        "  return tensor([zero_rho for i in range (num_qubits)])\n",
        "\n",
        "\n",
        "def bell_state(state):\n",
        "  \"\"\"\n",
        "    returns requested bell state\n",
        "  \"\"\"\n",
        "  if state == 'phi+':\n",
        "      phi_plus_ket = (tensor(basis(2, 0), basis(2, 0)) + tensor(basis(2, 1), basis(2, 1))).unit()\n",
        "      return phi_plus_ket * phi_plus_ket.dag()\n",
        "\n",
        "  elif state == 'phi-':\n",
        "      phi_minus_ket = (tensor(basis(2, 0), basis(2, 0)) - tensor(basis(2, 1), basis(2, 1))).unit()\n",
        "      return phi_minus_ket * phi_minus_ket.dag()\n",
        "\n",
        "  elif state == 'psi+':\n",
        "      psi_plus_ket = (tensor(basis(2, 0), basis(2, 1)) + tensor(basis(2, 1), basis(2, 0))).unit()\n",
        "      return psi_plus_ket * psi_plus_ket.dag()\n",
        "\n",
        "  elif state == 'psi-':\n",
        "      psi_minus_ket = (tensor(basis(2, 0), basis(2, 1)) - tensor(basis(2, 1), basis(2, 0))).unit()\n",
        "      return psi_minus_ket * psi_minus_ket.dag()\n",
        "\n",
        "  else:\n",
        "      raise ValueError(\"Invalid Bell state label\")\n",
        "\n",
        "\n",
        "def pad_op_to_left(op, num_identities):\n",
        "  if num_identities > 0:\n",
        "    left_op = I()\n",
        "    for i in range(num_identities - 1):\n",
        "      left_op = tensor(left_op, I())\n",
        "    return tensor(left_op, op)\n",
        "  else:\n",
        "    return op\n",
        "\n",
        "\n",
        "def pad_op_to_right(op, num_identities):\n",
        "  if num_identities > 0:\n",
        "    right_op = I()\n",
        "    for i in range(num_identities - 1):\n",
        "      right_op = tensor(right_op, I())\n",
        "    return tensor(op, right_op)\n",
        "  else:\n",
        "    return op\n",
        "\n",
        "\n",
        "def state_inserter(rho_initial, target_qubits, state):\n",
        "  \"\"\"\n",
        "    Takes a density matrix of a network, inserts the state 'state' into the slots of the target_qubits.\n",
        "    Assumes that target qubits are beside eachother and that no entanglement exists between\n",
        "    qubits at either side of the target_qubits.\n",
        "\n",
        "    Returns full density matrix of updated network\n",
        "  \"\"\"\n",
        "  if isinstance(target_qubits, int):\n",
        "    num_qubits_left = target_qubits\n",
        "    num_qubits_right = num_qubits - target_qubits - 1\n",
        "\n",
        "    qubits_left_list = [i for i in range(num_qubits_left)]\n",
        "    qubits_right_list = [i + num_qubits_left + 1 for i in range(num_qubits_right)]\n",
        "\n",
        "  elif isinstance(target_qubits, builtins.list):\n",
        "    num_qubits_left = target_qubits[0]\n",
        "    num_qubits_right = num_qubits - target_qubits[-1] - 1\n",
        "\n",
        "    qubits_left_list = [i for i in range(num_qubits_left)]\n",
        "    qubits_right_list = [i + num_qubits_left + len(target_qubits) for i in range(num_qubits_right)]\n",
        "\n",
        "  else:\n",
        "    raise TypeError('Invalid data type for target_qubit, must be int or list')\n",
        "\n",
        "  rho = state\n",
        "  if len(qubits_left_list) != 0:\n",
        "    rho_qubits_left = rho_initial.ptrace(qubits_left_list)\n",
        "    rho = tensor(rho_qubits_left, rho)\n",
        "\n",
        "  if len(qubits_right_list) != 0:\n",
        "    rho_qubits_right = rho_initial.ptrace(qubits_right_list)\n",
        "    rho = tensor(rho, rho_qubits_right)\n",
        "\n",
        "  return rho\n",
        "\n",
        "\n",
        "def time_for_link(eta_eff, T_p):\n",
        "  \"\"\"\n",
        "  Gets the time taken to generate entanglement between 2 adjacent nodes\n",
        "  Does this by generating random samples from a geometric distribution with\n",
        "  success probability eta_eff and then multiplying by time taken for one trial.\n",
        "\n",
        "  Parameters:\n",
        "  eta_eff (float): Success probability for the geometric distribution.\n",
        "  num_samples (int): Number of random samples to generate.\n",
        "\n",
        "  Returns:\n",
        "  np.ndarray: Array of random samples from the geometric distribution.\n",
        "  \"\"\"\n",
        "  no_of_trials = np.random.geometric(eta_eff)\n",
        "  time_per_trial = T_p + 2 * d / c\n",
        "  time_per_link = no_of_trials * time_per_trial\n",
        "  return time_per_link\n",
        "\n",
        "\n",
        "def dephasing_channel(rho, t, left_padding, right_padding):\n",
        "  dp_prob = (1 - np.exp(-t / T_dp)) / 2\n",
        "  dp_op = np.sqrt(1 - dp_prob) * qeye(2) + np.sqrt(dp_prob) * sigmaz()\n",
        "  dp_op = pad_op_to_left(dp_op, left_padding)\n",
        "  dp_op = pad_op_to_right(dp_op, right_padding)\n",
        "  rho_t = dp_op * rho * dp_op.dag()\n",
        "  return rho_t\n",
        "\n",
        "def dark_counts_entang_gen(rho_initial, q1, q2, n, P_link):\n",
        "  \"\"\"\n",
        "  q2 experiences the dark counts. q1 is included in the partial trace as\n",
        "  entanglement is broken otherwise\n",
        "  n = total probability that a pair is established = P_link * n_ch(d)\n",
        "  NOTE: This only does one target_qubit\n",
        "  \"\"\"\n",
        "  # channel efficiency\n",
        "  n_ch = lambda L: np.exp(-L/L_att)\n",
        "\n",
        "  # total probability that a pair is established\n",
        "  n = P_link * n_ch(d)\n",
        "\n",
        "  # the chance for a detector to click (including dark counts)\n",
        "  n_eff = 1 - (1 - n) * (1 - p_d) ** 2\n",
        "\n",
        "  # given a click occurs, the probability it is from a real event\n",
        "  alpha = lambda n: (n * (1 - p_d)) / n_eff\n",
        "\n",
        "  dark_count_rho = rho_initial.ptrace([q1, q2]) * alpha(n) + (1 - alpha(n)) / 2 * tensor(rho_initial.ptrace(q1) , I())\n",
        "  rho = state_inserter(rho_initial = rho_initial,\n",
        "                      target_qubits = [q1,q2], state = dark_count_rho)\n",
        "  return rho\n",
        "\n",
        "\n",
        "def initial_F_rho(rho_initial, target_qubits: List[int], F_initial: float):\n",
        "  rho_bell = F_initial * bell_state('phi+') + ((1 - F_initial) / 3) * (bell_state('phi-') +\n",
        "                                                                    bell_state('psi+') +\n",
        "                                                                    bell_state('psi-'))\n",
        "  rho = state_inserter(rho_initial=rho_initial, target_qubits=target_qubits, state=rho_bell)\n",
        "  return rho"
      ],
      "metadata": {
        "id": "W29qfNdbEvbo"
      },
      "execution_count": 3,
      "outputs": []
    },
    {
      "cell_type": "markdown",
      "source": [
        "# Entanglement Generation and Swapping"
      ],
      "metadata": {
        "id": "O4tMBQcrnaWI"
      }
    },
    {
      "cell_type": "code",
      "source": [
        "def entanglement_generation(rho_initial, target_qubits, F_initial, n, P_link, T_p):\n",
        "  \"\"\"\n",
        "    This function generates entanglement across 2 neighbouring repeater stations\n",
        "    q1 and q2. It does this by first creating a phi+ bell state density matrix\n",
        "    across 2 qubits (with a fidelity F_initial). This is inserted into the initial\n",
        "    state rho_initial by taking the partial trace of rho_initial to the left of the\n",
        "    pair and to the right of the pair and then tensoring these density matrices together.\n",
        "\n",
        "    (This function assumes that no entangled pair exists with one qubit on each\n",
        "    side of the 2 selected qubits which I don't believe happens in any networking\n",
        "    protocol)\n",
        "  \"\"\"\n",
        "  # SET UP\n",
        "  # getting the number of qubits either side of the pair and making a list of them\n",
        "  q1, q2 = target_qubits[0], target_qubits[1]\n",
        "  num_qubits_left = q1\n",
        "  num_qubits_right = (num_qubits - 1) - q2\n",
        "  qubits_left_list = [i for i in range(num_qubits_left)]\n",
        "  qubits_right_list = [i + num_qubits_left+2 for i in range(num_qubits_right)]\n",
        "\n",
        "\n",
        "  # GENERATING PHI+ BELL PAIR WITH FIDELITY F_INITIAL\n",
        "  rho = initial_F_rho(rho_initial=rho_initial, target_qubits=[q1, q2], F_initial=F_initial)\n",
        "\n",
        "  # ADDING MEMORY NOISE\n",
        "  # dephasing channel for q1 (stays in memory for twice as long)\n",
        "  rho = dephasing_channel(rho=rho, t = 2 * d/c, left_padding = num_qubits_left, right_padding = num_qubits_right + 1)\n",
        "\n",
        "  # dephasing channel for q2\n",
        "  rho = dephasing_channel(rho=rho, t = d/c, left_padding = num_qubits_left + 1, right_padding = num_qubits_right)\n",
        "\n",
        "  # ADDING DARK COUNTS NOISE\n",
        "  rho = dark_counts_entang_gen(rho_initial=rho, q1=q1, q2=q2, n=n, P_link=P_link)\n",
        "\n",
        "  return rho"
      ],
      "metadata": {
        "id": "UtxWBjOk22Fx"
      },
      "execution_count": 4,
      "outputs": []
    },
    {
      "cell_type": "code",
      "source": [
        "def entanglement_swapping(rho_initial, q0q1, q2q3, lambda_BSM):\n",
        "  \"\"\"\n",
        "  rho_initial = denisty matrix\n",
        "  q0q1 = list of length 2\n",
        "  q2q3 = list of length 2\n",
        "  lambda_BSM = float [0,1], bell state measurement ideality\n",
        "  \"\"\"\n",
        "  # set up\n",
        "  q0, q1 = q0q1[0], q0q1[1]\n",
        "  q2, q3 = q2q3[0], q2q3[1]\n",
        "  num_qubits_left = q0\n",
        "  num_qubits_right = (num_qubits - 1) - q3\n",
        "  qubits_left_list = [i for i in range(num_qubits_left)]\n",
        "  qubits_right_list = [i + num_qubits_left+2 for i in range(num_qubits_right)]\n",
        "  seperation = (q3 - q0) - 1\n",
        "  bell_measure_op = tensor(I(), bell_state('phi+'), I())\n",
        "\n",
        "  # getting the initial state of the 4 qubits and creating 4 qubit density matrix\n",
        "  rho_q0q1 = rho_initial.ptrace(q0q1)\n",
        "  rho_q2q3 = rho_initial.ptrace(q2q3)\n",
        "  rho_initial_target = tensor(rho_q0q1, rho_q2q3)\n",
        "\n",
        "  # projecting into phi+ bell state\n",
        "  rho = (bell_measure_op * rho_initial_target * bell_measure_op.dag()).ptrace([0,3]).unit()\n",
        "\n",
        "  # adding BSM error\n",
        "  rho = lambda_BSM * rho + (1 - lambda_BSM) / 4 * tensor(I(), I())\n",
        "\n",
        "  # adding qubits to left of state\n",
        "  if len(qubits_left_list) != 0:\n",
        "    rho_qubits_left = rho_initial.ptrace(qubits_left_list)\n",
        "    rho = tensor(rho_qubits_left, rho)\n",
        "\n",
        "  # adding the qubits between the newly entangled qubits q0, q3 to the right\n",
        "  rho_middle = tensor([zero_rho for i in range(seperation)])\n",
        "  rho = tensor(rho, rho_middle)\n",
        "\n",
        "  # swapping q3 to the end of the tensor product so that now rho_middle is indeed in the middle\n",
        "  perm_order = [i for i in range(q3+1)]\n",
        "  q3_index = perm_order.pop(num_qubits_left+1) # remove the index where q3 is now from list (where q1 normally is)\n",
        "  perm_order.append(q3_index) # append q3 index to end of list, moving q3 to the end\n",
        "  rho = rho.permute(perm_order)\n",
        "\n",
        "  # adding qubits to the right of state\n",
        "  if len(qubits_right_list) != 0:\n",
        "    rho_qubits_right = rho_initial.ptrace(qubits_right_list)\n",
        "    rho = tensor(rho, rho_qubits_right)\n",
        "\n",
        "  return rho"
      ],
      "metadata": {
        "id": "dbY9SV5HG7qL"
      },
      "execution_count": 5,
      "outputs": []
    },
    {
      "cell_type": "markdown",
      "source": [
        "# Defining Global Parameters"
      ],
      "metadata": {
        "id": "op6iE_-gnf07"
      }
    },
    {
      "cell_type": "code",
      "source": [
        "# DEFINING GLOBAL PARAMETERS\n",
        "# Geometric Set Up\n",
        "num_qubits = 4\n",
        "total_L = 100\n",
        "d = total_L/(num_qubits - 1)\n",
        "\n",
        "# Optical Fiber Properties\n",
        "L_att = 22e3       # attenuation length of optical fiber\n",
        "c = 2e8            # speed of light in fiber optic\n",
        "\n",
        "# Global Error Parameters\n",
        "T_dp = 100         # dephasing time constant (memory error)\n",
        "p_d = 0            # probability a dark count will occur in a detection window\n",
        "\n",
        "# DEFINING ENTANGLEMENT GENERATION PARAMETERS\n",
        "entang_gen_args = {\n",
        "    'n' : 1,             # probability a link is established between 2 neighbouring repeater stations\n",
        "    'P_link' : 1,        # probability a link is established without considering distance based losses\n",
        "    'T_p' : 0            # time to prepare an entangled pair\n",
        "}"
      ],
      "metadata": {
        "id": "KOZOmmI9GEfq"
      },
      "execution_count": 6,
      "outputs": []
    },
    {
      "cell_type": "markdown",
      "source": [
        "# Example Usage"
      ],
      "metadata": {
        "id": "86txw54Vniad"
      }
    },
    {
      "cell_type": "code",
      "source": [
        "num_qubits = 8\n",
        "total_L = 100\n",
        "d = total_L/(num_qubits - 1)\n",
        "\n",
        "# simulating an 8 node network, entangling the 2 end nodes\n",
        "rho = initial_rho(num_qubits)\n",
        "rho = entanglement_generation(rho_initial=rho, target_qubits=[0,1], F_initial = 1, **entang_gen_args)\n",
        "rho = entanglement_generation(rho_initial = rho, target_qubits=[2,3], F_initial = 1, **entang_gen_args)\n",
        "rho = entanglement_generation(rho_initial = rho, target_qubits=[4,5], F_initial = 1, **entang_gen_args)\n",
        "rho = entanglement_generation(rho_initial = rho, target_qubits=[6,7], F_initial = 1, **entang_gen_args)\n",
        "rho = entanglement_swapping(rho_initial = rho, q0q1 = [0,1], q2q3=[2,3], lambda_BSM= 1)\n",
        "rho = entanglement_swapping(rho_initial = rho, q0q1 = [4,5], q2q3=[6,7], lambda_BSM= 1)\n",
        "rho = entanglement_swapping(rho_initial = rho, q0q1 = [0,3], q2q3=[4,7], lambda_BSM= 1)\n",
        "\n",
        "# PRINTING OUT PARTIAL TRACE OF ALL QUBITS\n",
        "print('PARTIAL TRACE OF ALL QUBITS')\n",
        "for i in range(num_qubits):\n",
        "  print(f'Qubit{i}\\n', np.round(rho.ptrace(i).full(),3), '\\n')\n",
        "\n",
        "# PRINTING OUT 2 QUBIT DENSITY MATRIX OF ENTANGLED STATE\n",
        "entangled_state = rho.ptrace([0,num_qubits-1])\n",
        "print('STATE OF ENTANGLED END NODES \\n',np.round(entangled_state.full(), 3))\n",
        "\n",
        "# TESTING FIDELITY\n",
        "#phi_plus_ket = (tensor(basis(2, 0), basis(2, 0)) + tensor(basis(2, 1), basis(2, 1))).unit()\n",
        "#print('\\nFidelity:', np.round(phi_plus_ket.dag() * state_03 * phi_plus_ket, 3))"
      ],
      "metadata": {
        "colab": {
          "base_uri": "https://localhost:8080/"
        },
        "id": "yutT_TixTTHM",
        "outputId": "be683968-d6e4-4ba5-af8a-0e26c626b0ac"
      },
      "execution_count": 7,
      "outputs": [
        {
          "output_type": "stream",
          "name": "stdout",
          "text": [
            "PARTIAL TRACE OF ALL QUBITS\n",
            "Qubit0\n",
            " [[0.5+0.j 0. +0.j]\n",
            " [0. +0.j 0.5+0.j]] \n",
            "\n",
            "Qubit1\n",
            " [[1.+0.j 0.+0.j]\n",
            " [0.+0.j 0.+0.j]] \n",
            "\n",
            "Qubit2\n",
            " [[1.+0.j 0.+0.j]\n",
            " [0.+0.j 0.+0.j]] \n",
            "\n",
            "Qubit3\n",
            " [[1.+0.j 0.+0.j]\n",
            " [0.+0.j 0.+0.j]] \n",
            "\n",
            "Qubit4\n",
            " [[1.+0.j 0.+0.j]\n",
            " [0.+0.j 0.+0.j]] \n",
            "\n",
            "Qubit5\n",
            " [[1.+0.j 0.+0.j]\n",
            " [0.+0.j 0.+0.j]] \n",
            "\n",
            "Qubit6\n",
            " [[1.+0.j 0.+0.j]\n",
            " [0.+0.j 0.+0.j]] \n",
            "\n",
            "Qubit7\n",
            " [[0.5+0.j 0. +0.j]\n",
            " [0. +0.j 0.5+0.j]] \n",
            "\n",
            "STATE OF ENTANGLED END NODES \n",
            " [[0.5+0.j 0. +0.j 0. +0.j 0.5+0.j]\n",
            " [0. +0.j 0. +0.j 0. +0.j 0. +0.j]\n",
            " [0. +0.j 0. +0.j 0. +0.j 0. +0.j]\n",
            " [0.5+0.j 0. +0.j 0. +0.j 0.5+0.j]]\n"
          ]
        }
      ]
    },
    {
      "cell_type": "code",
      "source": [],
      "metadata": {
        "id": "nOZso2NKM-Zv"
      },
      "execution_count": 7,
      "outputs": []
    }
  ]
}